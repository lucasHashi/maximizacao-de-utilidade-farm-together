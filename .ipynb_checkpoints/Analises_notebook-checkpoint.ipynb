{
 "cells": [
  {
   "cell_type": "markdown",
   "metadata": {},
   "source": [
    "# Analise de utilidade das plantações do Farm Together"
   ]
  },
  {
   "cell_type": "markdown",
   "metadata": {},
   "source": [
    "Descricao"
   ]
  },
  {
   "cell_type": "markdown",
   "metadata": {},
   "source": [
    "## Parte 1: Conecção e tipos de plantações"
   ]
  },
  {
   "cell_type": "markdown",
   "metadata": {},
   "source": [
    "### Conectando com o site"
   ]
  },
  {
   "cell_type": "code",
   "execution_count": 1,
   "metadata": {},
   "outputs": [],
   "source": [
    "from bs4 import BeautifulSoup\n",
    "from urllib.request import urlopen\n",
    "from pprint import pprint\n",
    "import pandas as pd\n",
    "\n",
    "URL_BASE = 'https://farmtogether.fandom.com'\n",
    "url = 'https://farmtogether.fandom.com/wiki/Harvestables'"
   ]
  },
  {
   "cell_type": "code",
   "execution_count": 2,
   "metadata": {},
   "outputs": [],
   "source": [
    "html = urlopen(url)"
   ]
  },
  {
   "cell_type": "code",
   "execution_count": 3,
   "metadata": {},
   "outputs": [],
   "source": [
    "bs = BeautifulSoup(html)"
   ]
  },
  {
   "cell_type": "markdown",
   "metadata": {},
   "source": [
    "### Listando os tipos de plantações e seus links"
   ]
  },
  {
   "cell_type": "code",
   "execution_count": 4,
   "metadata": {},
   "outputs": [
    {
     "name": "stdout",
     "output_type": "stream",
     "text": [
      "<a class=\"image image-thumbnail link-internal\" href=\"/wiki/Crops\" title=\"Crops\"><img alt=\"Carrot\" class=\"\" data-image-key=\"Carrot.png\" data-image-name=\"Carrot.png\" height=\"110\" src=\"https://vignette.wikia.nocookie.net/farmtogether/images/c/c3/Carrot.png/revision/latest?cb=20190331180358\" width=\"110\"/></a>\n"
     ]
    }
   ],
   "source": [
    "lista_as = bs.find_all('a', class_='image-thumbnail')\n",
    "print(lista_as[0])\n"
   ]
  },
  {
   "cell_type": "code",
   "execution_count": 5,
   "metadata": {},
   "outputs": [
    {
     "name": "stdout",
     "output_type": "stream",
     "text": [
      "{'Crops': 'https://farmtogether.fandom.com/wiki/Crops', 'Trees': 'https://farmtogether.fandom.com/wiki/Trees', 'Flowers': 'https://farmtogether.fandom.com/wiki/Flowers', 'Animals': 'https://farmtogether.fandom.com/wiki/Animals', 'Ponds': 'https://farmtogether.fandom.com/wiki/Ponds'}\n"
     ]
    }
   ],
   "source": [
    "tipos_colheitas = {}\n",
    "for a_colheita in lista_as:\n",
    "    tipo = a_colheita['title']\n",
    "    link = a_colheita['href']\n",
    "    tipos_colheitas[tipo] = URL_BASE+link\n",
    "\n",
    "# LISTA DOS LINKS DOS TIPOS DE COLHEITAS\n",
    "print(tipos_colheitas)"
   ]
  },
  {
   "cell_type": "markdown",
   "metadata": {},
   "source": [
    "## Parte 2: Lista de itens colhiveis"
   ]
  },
  {
   "cell_type": "code",
   "execution_count": 6,
   "metadata": {},
   "outputs": [],
   "source": [
    "link_teste = tipos_colheitas['Crops']\n",
    "html = urlopen(link_teste)\n",
    "bs = BeautifulSoup(html)"
   ]
  },
  {
   "cell_type": "code",
   "execution_count": 7,
   "metadata": {
    "scrolled": true
   },
   "outputs": [
    {
     "name": "stdout",
     "output_type": "stream",
     "text": [
      "{'Cereals': {'Barley': 'https://farmtogether.fandom.com/wiki/Barley',\n",
      "             'Corn': 'https://farmtogether.fandom.com/wiki/Corn',\n",
      "             'Red Sorghum': 'https://farmtogether.fandom.com/wiki/Red_Sorghum',\n",
      "             'Rye': 'https://farmtogether.fandom.com/wiki/Rye',\n",
      "             'Wheat': 'https://farmtogether.fandom.com/wiki/Wheat',\n",
      "             'White Sorghum': 'https://farmtogether.fandom.com/wiki/White_Sorghum'},\n",
      " 'DLC': {'Blackcurrant': 'https://farmtogether.fandom.com/wiki/Blackcurrant',\n",
      "         'Celery': 'https://farmtogether.fandom.com/wiki/Celery',\n",
      "         'Chickpea': 'https://farmtogether.fandom.com/wiki/Chickpea',\n",
      "         'Chili': 'https://farmtogether.fandom.com/wiki/Chili',\n",
      "         'Chive': 'https://farmtogether.fandom.com/wiki/Chive',\n",
      "         'Ginger': 'https://farmtogether.fandom.com/wiki/Ginger',\n",
      "         'Habanero Pepper': 'https://farmtogether.fandom.com/wiki/Habanero_Pepper',\n",
      "         'Jalapeño Pepper': 'https://farmtogether.fandom.com/wiki/Jalape%C3%B1o_Pepper',\n",
      "         'Oregano': 'https://farmtogether.fandom.com/wiki/Oregano',\n",
      "         'Redcurrant': 'https://farmtogether.fandom.com/wiki/Redcurrant',\n",
      "         'Sugar Cane': 'https://farmtogether.fandom.com/wiki/Sugar_Cane',\n",
      "         'Wasabi': 'https://farmtogether.fandom.com/wiki/Wasabi'},\n",
      " 'Event': {'Candy Cane': 'https://farmtogether.fandom.com/wiki/Candy_Cane',\n",
      "           'Cotton Candy': 'https://farmtogether.fandom.com/wiki/Cotton_Candy',\n",
      "           'Cursed Pumpkin': 'https://farmtogether.fandom.com/wiki/Cursed_Pumpkin',\n",
      "           'Dinosaur Fossil': 'https://farmtogether.fandom.com/wiki/Dinosaur_Fossil',\n",
      "           'Easter Egg': 'https://farmtogether.fandom.com/wiki/Easter_Egg',\n",
      "           'Fern': 'https://farmtogether.fandom.com/wiki/Fern',\n",
      "           'Fireworks': 'https://farmtogether.fandom.com/wiki/Fireworks',\n",
      "           'Flower Bouquets': 'https://farmtogether.fandom.com/wiki/Flower_Bouquets',\n",
      "           'Lucky Clover': 'https://farmtogether.fandom.com/wiki/Lucky_Clover',\n",
      "           'Magic Crystal': 'https://farmtogether.fandom.com/wiki/Magic_Crystal',\n",
      "           'Musical Root': 'https://farmtogether.fandom.com/wiki/Musical_Root',\n",
      "           'Party Candles': 'https://farmtogether.fandom.com/wiki/Party_Candles',\n",
      "           'Shooting Stars': 'https://farmtogether.fandom.com/wiki/Shooting_Stars',\n",
      "           'Toy Pinwheels': 'https://farmtogether.fandom.com/wiki/Toy_Pinwheels'},\n",
      " 'Fabric': {'Cotton': 'https://farmtogether.fandom.com/wiki/Cotton'},\n",
      " 'Fruits': {'Kiwifruit': 'https://farmtogether.fandom.com/wiki/Kiwifruit',\n",
      "            'Melon': 'https://farmtogether.fandom.com/wiki/Melon',\n",
      "            'Physalis': 'https://farmtogether.fandom.com/wiki/Physalis',\n",
      "            'Pineapple': 'https://farmtogether.fandom.com/wiki/Pineapple',\n",
      "            'Strawberry': 'https://farmtogether.fandom.com/wiki/Strawberry',\n",
      "            'Watermelon': 'https://farmtogether.fandom.com/wiki/Watermelon'},\n",
      " 'Grapes': {'Black Goji Berry': 'https://farmtogether.fandom.com/wiki/Black_Goji_Berry',\n",
      "            'Blackberry': 'https://farmtogether.fandom.com/wiki/Blackberry',\n",
      "            'Blue Grape': 'https://farmtogether.fandom.com/wiki/Blue_Grape',\n",
      "            'Green Grape': 'https://farmtogether.fandom.com/wiki/Green_Grape',\n",
      "            'Raspberry': 'https://farmtogether.fandom.com/wiki/Raspberry',\n",
      "            'Red Goji Berry': 'https://farmtogether.fandom.com/wiki/Red_Goji_Berry',\n",
      "            'Red Grape': 'https://farmtogether.fandom.com/wiki/Red_Grape'},\n",
      " 'Mushrooms': {'Parasol Mushroom': 'https://farmtogether.fandom.com/wiki/Parasol_Mushroom',\n",
      "               'Red Pine Mushroom': 'https://farmtogether.fandom.com/wiki/Red_Pine_Mushroom',\n",
      "               'Shiitake': 'https://farmtogether.fandom.com/wiki/Shiitake',\n",
      "               'White Mushroom': 'https://farmtogether.fandom.com/wiki/White_Mushroom'},\n",
      " 'Nuts': {'Peanut': 'https://farmtogether.fandom.com/wiki/Peanut',\n",
      "          'Sunflower': 'https://farmtogether.fandom.com/wiki/Sunflower'},\n",
      " 'Spice': {'Black Peppercorn': 'https://farmtogether.fandom.com/wiki/Black_Peppercorn',\n",
      "           'Pink Peppercorn': 'https://farmtogether.fandom.com/wiki/Pink_Peppercorn',\n",
      "           'Turmeric': 'https://farmtogether.fandom.com/wiki/Turmeric',\n",
      "           'White Peppercorn': 'https://farmtogether.fandom.com/wiki/White_Peppercorn'},\n",
      " 'Vegetables': {'Agave': 'https://farmtogether.fandom.com/wiki/Agave',\n",
      "                'Aloe Vera': 'https://farmtogether.fandom.com/wiki/Aloe_Vera',\n",
      "                'Artichoke': 'https://farmtogether.fandom.com/wiki/Artichoke',\n",
      "                'Asparagus': 'https://farmtogether.fandom.com/wiki/Asparagus',\n",
      "                'Azoychka Tomato': 'https://farmtogether.fandom.com/wiki/Azoychka_Tomato',\n",
      "                'Beans': 'https://farmtogether.fandom.com/wiki/Beans',\n",
      "                'Beefsteak Tomato': 'https://farmtogether.fandom.com/wiki/Beefsteak_Tomato',\n",
      "                'Beet': 'https://farmtogether.fandom.com/wiki/Beet',\n",
      "                'Broccoli': 'https://farmtogether.fandom.com/wiki/Broccoli',\n",
      "                'Cabbage': 'https://farmtogether.fandom.com/wiki/Cabbage',\n",
      "                'Carrot': 'https://farmtogether.fandom.com/wiki/Carrot',\n",
      "                'Cauliflower': 'https://farmtogether.fandom.com/wiki/Cauliflower',\n",
      "                'Chard': 'https://farmtogether.fandom.com/wiki/Chard',\n",
      "                'Cheddar Cauliflower': 'https://farmtogether.fandom.com/wiki/Cheddar_Cauliflower',\n",
      "                'Cherokee Purple Tomato': 'https://farmtogether.fandom.com/wiki/Cherokee_Purple_Tomato',\n",
      "                'Crookneck Pumpkin': 'https://farmtogether.fandom.com/wiki/Crookneck_Pumpkin',\n",
      "                'Cucumber': 'https://farmtogether.fandom.com/wiki/Cucumber',\n",
      "                'Eggplant': 'https://farmtogether.fandom.com/wiki/Eggplant',\n",
      "                'Garlic': 'https://farmtogether.fandom.com/wiki/Garlic',\n",
      "                'Graffiti Cauliflower': 'https://farmtogether.fandom.com/wiki/Graffiti_Cauliflower',\n",
      "                'Green Pepper': 'https://farmtogether.fandom.com/wiki/Green_Pepper',\n",
      "                'Jicama': 'https://farmtogether.fandom.com/wiki/Jicama',\n",
      "                'Leek': 'https://farmtogether.fandom.com/wiki/Leek',\n",
      "                'Lettuce': 'https://farmtogether.fandom.com/wiki/Lettuce',\n",
      "                'Lombardy Cabbage': 'https://farmtogether.fandom.com/wiki/Lombardy_Cabbage',\n",
      "                'Peas': 'https://farmtogether.fandom.com/wiki/Peas',\n",
      "                'Potato': 'https://farmtogether.fandom.com/wiki/Potato',\n",
      "                'Pumpkin': 'https://farmtogether.fandom.com/wiki/Pumpkin',\n",
      "                'Purple Carrot': 'https://farmtogether.fandom.com/wiki/Purple_Carrot',\n",
      "                'Radish': 'https://farmtogether.fandom.com/wiki/Radish',\n",
      "                'Red Onion': 'https://farmtogether.fandom.com/wiki/Red_Onion',\n",
      "                'Red Pepper': 'https://farmtogether.fandom.com/wiki/Red_Pepper',\n",
      "                'Romanesco': 'https://farmtogether.fandom.com/wiki/Romanesco',\n",
      "                'Shallot': 'https://farmtogether.fandom.com/wiki/Shallot',\n",
      "                'Soybean': 'https://farmtogether.fandom.com/wiki/Soybean',\n",
      "                'Spinach': 'https://farmtogether.fandom.com/wiki/Spinach',\n",
      "                'Tomato': 'https://farmtogether.fandom.com/wiki/Tomato',\n",
      "                'Turnip': 'https://farmtogether.fandom.com/wiki/Turnip',\n",
      "                'Yellow Onion': 'https://farmtogether.fandom.com/wiki/Yellow_Onion',\n",
      "                'Yellow Pepper': 'https://farmtogether.fandom.com/wiki/Yellow_Pepper',\n",
      "                'Yellow Zucchini': 'https://farmtogether.fandom.com/wiki/Yellow_Zucchini',\n",
      "                'Zucchini': 'https://farmtogether.fandom.com/wiki/Zucchini'}}\n"
     ]
    }
   ],
   "source": [
    "tabelas = bs.select('table.article-table')\n",
    "\n",
    "itens_por_categoria = {}\n",
    "for tabela in tabelas:\n",
    "    cat_nome = tabela.select('tr th h3 span b')[0].get_text()\n",
    "    \n",
    "    itens = {}\n",
    "    cat_as = tabela.select('tr td span a')\n",
    "    for item in cat_as:\n",
    "        nome = item.get('title')\n",
    "        link = item.get('href')\n",
    "        link = URL_BASE + link\n",
    "        \n",
    "        itens[nome] = link\n",
    "    \n",
    "    itens_por_categoria[cat_nome] = itens\n",
    "pprint(itens_por_categoria)"
   ]
  },
  {
   "cell_type": "markdown",
   "metadata": {},
   "source": [
    "## Parte 3: Pegando dados de cada item"
   ]
  },
  {
   "cell_type": "code",
   "execution_count": 8,
   "metadata": {},
   "outputs": [],
   "source": [
    "link_teste = itens_por_categoria['Vegetables']['Carrot']\n",
    "html = urlopen(link_teste)\n",
    "bs = BeautifulSoup(html)"
   ]
  },
  {
   "cell_type": "markdown",
   "metadata": {},
   "source": [
    "### Coletando infos: custo, estações, farm level, tempo, tipo de recurso, xp"
   ]
  },
  {
   "cell_type": "code",
   "execution_count": 19,
   "metadata": {},
   "outputs": [
    {
     "name": "stdout",
     "output_type": "stream",
     "text": [
      "{'custo': 35.0,\n",
      " 'estacoes': ['fall', 'spring', 'winter'],\n",
      " 'farm_level': 1,\n",
      " 'tempo': 20,\n",
      " 'tipo_recurso': 'Vegetables',\n",
      " 'xp': 2.0}\n"
     ]
    }
   ],
   "source": [
    "dict_item = {'nome': 'Carrot'}\n",
    "tabela = bs.select('table.infobox')[0]\n",
    "nome = tabela.select('th h3 span')[0].get_text()\n",
    "linhas_propriedades = tabela.select('tr')\n",
    "\n",
    "propriedades = {}\n",
    "for linha in linhas_propriedades:\n",
    "    if('<th' in str(linha)):\n",
    "        propriedade = linha.select('th')[0]\n",
    "        if('Buy' in str(propriedade)):\n",
    "            propriedade = 'custo'\n",
    "            valor = float(linha.select('td')[0].get_text())\n",
    "            propriedades[propriedade] = valor\n",
    "        elif('Plant on' in str(propriedade)):\n",
    "            propriedade = 'estacoes'\n",
    "            estacoes = []\n",
    "            if('Fall' in str(linha)):\n",
    "                estacoes.append('fall')\n",
    "            if('Spring' in str(linha)):\n",
    "                estacoes.append('spring')\n",
    "            if('Winter' in str(linha)):\n",
    "                estacoes.append('winter')\n",
    "            if('Summer' in str(linha)):\n",
    "                estacoes.append('summer')\n",
    "            propriedades[propriedade] = estacoes\n",
    "        elif('Harvest' in str(propriedade) and not 'Info' in str(propriedade) and not 'each' in str(propriedade)):\n",
    "            propriedade = 'xp'\n",
    "            tds = linha.select('td')\n",
    "            _, xp = tds[0].get_text().split()\n",
    "            xp = float(xp)\n",
    "            propriedades[propriedade] = xp\n",
    "        elif('Harvest each' in str(propriedade)):\n",
    "            propriedade = 'tempo'\n",
    "            tempo_total = 0\n",
    "            tempos = linha.select('td')[0].get_text().split()\n",
    "            for i in tempos:\n",
    "                if('m' in i):\n",
    "                    tempo = int(i.replace('m', ''))\n",
    "                elif('h' in i):\n",
    "                    tempo = int(i.replace('h', ''))\n",
    "                    tempo = tempo * 60\n",
    "                elif('d' in i):\n",
    "                    tempo = int(i.replace('d', ''))\n",
    "                    tempo = tempo * 24 * 60\n",
    "                tempo_total += tempo\n",
    "            propriedades[propriedade] = tempo_total\n",
    "        elif('Resource' in str(propriedade)):\n",
    "            propriedade = 'tipo_recurso'\n",
    "            tipo_recurso = linha.select('img')[0].get('alt')\n",
    "            propriedades[propriedade] = tipo_recurso\n",
    "        elif('Farm Level' in str(propriedade)):\n",
    "            propriedade = 'farm_level'\n",
    "            level = int(linha.select('td')[0].get_text().strip())\n",
    "            propriedades[propriedade] = level\n",
    "\n",
    "pprint(propriedades)\n",
    "dict_item.update(propriedades)"
   ]
  },
  {
   "cell_type": "markdown",
   "metadata": {},
   "source": [
    "### Coletando infos: ganho por nivel da plantação"
   ]
  },
  {
   "cell_type": "code",
   "execution_count": 20,
   "metadata": {},
   "outputs": [
    {
     "name": "stdout",
     "output_type": "stream",
     "text": [
      "{'1': 60,\n",
      " '100': 82,\n",
      " '125': 88,\n",
      " '150': 94,\n",
      " '175': 99,\n",
      " '200': 105,\n",
      " '25': 65,\n",
      " '50': 71,\n",
      " '75': 77}\n"
     ]
    }
   ],
   "source": [
    "tabela = bs.select('table.article-table')[0]\n",
    "linhas = tabela.select('tr')\n",
    "dict_ganhos = {}\n",
    "chaves = [1] + [ i*25 for i in range(1, 9, 1)]\n",
    "ganhos = []\n",
    "for linha in linhas:\n",
    "    if('Standard' in str(linha)):\n",
    "        colunas = linha.select('td')\n",
    "        for valor in colunas:\n",
    "            valor = valor.get_text().replace('\\n', '')\n",
    "            if(valor):\n",
    "                ganhos.append(int(valor))\n",
    "\n",
    "for i in range(len(chaves)):\n",
    "    dict_ganhos[str(chaves[i])] = ganhos[i]\n",
    "pprint(dict_ganhos)\n",
    "dict_item['ganhos'] = dict_ganhos"
   ]
  },
  {
   "cell_type": "code",
   "execution_count": 23,
   "metadata": {},
   "outputs": [
    {
     "name": "stdout",
     "output_type": "stream",
     "text": [
      "{'custo': 35.0,\n",
      " 'estacoes': ['fall', 'spring', 'winter'],\n",
      " 'farm_level': 1,\n",
      " 'ganhos': {'1': 60,\n",
      "            '100': 82,\n",
      "            '125': 88,\n",
      "            '150': 94,\n",
      "            '175': 99,\n",
      "            '200': 105,\n",
      "            '25': 65,\n",
      "            '50': 71,\n",
      "            '75': 77},\n",
      " 'nome': 'Carrot',\n",
      " 'tempo': 20,\n",
      " 'tipo_recurso': 'Vegetables',\n",
      " 'xp': 2.0}\n"
     ]
    }
   ],
   "source": [
    "pprint(dict_item)"
   ]
  },
  {
   "cell_type": "code",
   "execution_count": null,
   "metadata": {},
   "outputs": [],
   "source": []
  },
  {
   "cell_type": "code",
   "execution_count": 7,
   "metadata": {},
   "outputs": [
    {
     "name": "stdout",
     "output_type": "stream",
     "text": [
      "https://vignette.wikia.nocookie.net/farmtogether/images/6/68/Shasta_Daisy.png/revision/latest?cb=20190710203937\n",
      "{'custo': 2000.0,\n",
      " 'ganho_base': 750.0,\n",
      " 'moeda_ganho': 'dinheiro',\n",
      " 'tempo': 240,\n",
      " 'tipo_recurso': 'Flowers',\n",
      " 'xp': 70.0}\n"
     ]
    }
   ],
   "source": [
    "link = 'https://farmtogether.fandom.com/wiki/Shasta_Daisy'\n",
    "html = urlopen(link)\n",
    "bs = BeautifulSoup(html, features='html.parser')\n",
    "\n",
    "dict_item = {}\n",
    "\n",
    "#COLETANDO DADOS DA TABELA DE CABECALHO\n",
    "tabela_ok = True\n",
    "try:\n",
    "    tabela = bs.select('table.infobox')[0]\n",
    "    linhas_propriedades = tabela.select('tr')\n",
    "except IndexError:\n",
    "    tabela_ok = False\n",
    "\n",
    "propriedades = {}\n",
    "ganho_coletado = False\n",
    "if(tabela_ok):\n",
    "    url_img = tabela.select('a.image')[0].get('href')\n",
    "    propriedades['url_img'] = url_img\n",
    "    for linha in linhas_propriedades:\n",
    "        if('<th' in str(linha)):\n",
    "            propriedade = linha.select('th')[0]\n",
    "            if('Buy' in str(propriedade)):\n",
    "                propriedade = 'custo'\n",
    "\n",
    "                valor = linha.select('td')[0].get_text()\n",
    "                if(',' in str(valor)):\n",
    "                    valor = valor.replace(',', '.')\n",
    "                if(' ' in str(valor)):\n",
    "                    valor = valor.split()[0]\n",
    "                if('k' in str(valor) or 'K' in str(valor)):\n",
    "                    valor = valor.replace('k','')\n",
    "                    valor = valor.replace('K','')\n",
    "                    valor = float(valor) * 1000\n",
    "                if(not str(valor).strip()):\n",
    "                    valor = 0\n",
    "                valor = float(valor)\n",
    "\n",
    "                propriedades[propriedade] = valor\n",
    "            elif('Harvest' in str(propriedade) and not 'Info' in str(propriedade) and not 'each' in str(propriedade)):\n",
    "                tds = linha.select('td')\n",
    "                if(tds[0].get_text().strip()):\n",
    "                    try:\n",
    "                        ganho, xp = tds[0].get_text().split()\n",
    "                    except:\n",
    "                        xp = tds[0].get_text().split()[0]\n",
    "                else:\n",
    "                    xp = 0\n",
    "\n",
    "                ganho = linha.select('td')[0].get_text()\n",
    "                if(',' in str(ganho)):\n",
    "                    ganho = ganho.replace(',', '.')\n",
    "                if(' ' in str(ganho)):\n",
    "                    ganho = ganho.split()[0]\n",
    "                if('k' in str(ganho) or 'K' in str(ganho)):\n",
    "                    ganho = ganho.replace('k','')\n",
    "                    ganho = ganho.replace('K','')\n",
    "                    ganho = float(ganho) * 1000\n",
    "                if(not str(ganho).strip()):\n",
    "                    ganho = 0\n",
    "\n",
    "                if('Diamonds' in str(propriedade)):\n",
    "                    moeda = 'diamantes'\n",
    "                else:\n",
    "                    moeda = 'dinheiro'\n",
    "                xp = float(xp)\n",
    "                ganho = float(ganho)\n",
    "                propriedades['xp'] = xp\n",
    "                propriedades['ganho_base'] = ganho\n",
    "                propriedades['moeda_ganho'] = moeda\n",
    "            elif('Resource' in str(propriedade)):\n",
    "                propriedade = 'tipo_recurso'\n",
    "                tipo_recurso = linha.select('img')[0].get('alt')\n",
    "                propriedades[propriedade] = tipo_recurso\n",
    "            elif('Harvest each' in str(propriedade)):\n",
    "                    propriedade = 'tempo'\n",
    "                    tempo_total = 0\n",
    "                    tempos = linha.select('td')[0].get_text().split()\n",
    "                    for i in tempos:\n",
    "                        if('m' in i):\n",
    "                            tempo = int(i.replace('m', ''))\n",
    "                        elif('hours' in tempos):\n",
    "                            tempo = float(tempos[0]) * 60\n",
    "                            tempo_total += tempo\n",
    "                            break\n",
    "                        elif('h' in i):\n",
    "                            tempo = int(i.replace('h', ''))\n",
    "                            tempo = tempo * 60\n",
    "                        elif('d' in i):\n",
    "                            tempo = int(i.replace('d', ''))\n",
    "                            tempo = tempo * 24 * 60\n",
    "                        tempo_total += tempo\n",
    "                    propriedades[propriedade] = tempo_total\n",
    "else:\n",
    "    propriedades['custo'] = 0\n",
    "    propriedades['estacoes'] = []\n",
    "    propriedades['xp'] = 0\n",
    "    propriedades['tipo_recurso'] = 0\n",
    "    propriedades['tempo'] = 0\n",
    "\n",
    "\n",
    "pprint(propriedades)"
   ]
  },
  {
   "cell_type": "code",
   "execution_count": 8,
   "metadata": {},
   "outputs": [],
   "source": [
    "#Colunas de cada tipo de colheita\n",
    "COLUNAS_CROPS = ['custo', 'ganho_base', 'moeda_ganha', 'tempo', 'tipo_recurso', 'xp', 'estacoes']\n",
    "COLUNAS_TREES = ['custo', 'ganho_base', 'moeda_ganha', 'tipo_recurso', 'xp', 'estacoes']\n",
    "COLUNAS_FLOWERS = ['custo', 'ganho_base', 'moeda_ganha', 'tempo', 'tipo_recurso', 'xp']\n",
    "COLUNAS_PONDS = ['custo', 'moeda_ganha', 'tempo', 'tipo_recurso', 'xp', 'ganho_grande', 'ganho_pequeno', 'p_pesca']\n",
    "COLUNAS_ANIMALS = ['custo', 'ganho_base', 'moeda_ganha', 'tempo', 'tipo_recurso', 'xp', 'comida_tempo', 'comida_custo', 'comida_vezes', 'comida_total']\n",
    "\n",
    "DICT_COLUNAS_COLHEITAS = {\n",
    "    'Crops': COLUNAS_CROPS,\n",
    "    'Trees': COLUNAS_TREES,\n",
    "    'Flowers': COLUNAS_FLOWERS,\n",
    "    'Ponds': COLUNAS_PONDS,\n",
    "    'Animals': COLUNAS_ANIMALS\n",
    "    }"
   ]
  },
  {
   "cell_type": "code",
   "execution_count": 16,
   "metadata": {},
   "outputs": [],
   "source": [
    "def coletar_dados_item(tipo_colheita, link):\n",
    "    colunas_validas = DICT_COLUNAS_COLHEITAS[tipo_colheita]\n",
    "    print(colunas_validas)\n",
    "\n",
    "    html = urlopen(link)\n",
    "    bs = BeautifulSoup(html, features='html.parser')\n",
    "\n",
    "    dict_item = {}\n",
    "\n",
    "    #COLETANDO DADOS DA TABELA DE CABECALHO\n",
    "    tabela_ok = True\n",
    "    try:\n",
    "        tabela = bs.select('table.infobox')[0]\n",
    "        linhas_tabela = tabela.select('tr')\n",
    "    except IndexError:\n",
    "        tabela_ok = False\n",
    "\n",
    "    propriedades = {}\n",
    "    ganho_coletado = False\n",
    "    if(tabela_ok):\n",
    "        url_img = tabela.select('a.image')[0].get('href')\n",
    "        propriedades['url_img'] = url_img\n",
    "        for linha in linhas_tabela:\n",
    "            if('<th' in str(linha)):\n",
    "                propriedade = linha.select('th')[0]\n",
    "                if('Buy' in str(propriedade) and 'custo' in colunas_validas):\n",
    "                    propriedade = 'custo'\n",
    "\n",
    "                    valor = linha.select('td')[0].get_text()\n",
    "                    if(',' in str(valor)):\n",
    "                        valor = valor.replace(',', '.')\n",
    "                    if(' ' in str(valor)):\n",
    "                        valor = valor.split()[0]\n",
    "                    if('k' in str(valor) or 'K' in str(valor)):\n",
    "                        valor = valor.replace('k','')\n",
    "                        valor = valor.replace('K','')\n",
    "                        valor = float(valor) * 1000\n",
    "                    if(not str(valor).strip()):\n",
    "                        valor = 0\n",
    "                    valor = float(valor)\n",
    "\n",
    "                    propriedades[propriedade] = valor\n",
    "                elif('Plant on' in str(propriedade) and 'estacoes' in colunas_validas):\n",
    "                    propriedade = 'estacoes'\n",
    "                    estacoes = []\n",
    "                    if('Fall' in str(linha)):\n",
    "                        estacoes.append('fall')\n",
    "                    if('Spring' in str(linha)):\n",
    "                        estacoes.append('spring')\n",
    "                    if('Winter' in str(linha)):\n",
    "                        estacoes.append('winter')\n",
    "                    if('Summer' in str(linha)):\n",
    "                        estacoes.append('summer')\n",
    "                    propriedades[propriedade] = estacoes\n",
    "                elif('Harvest' in str(propriedade) and not 'Info' in str(propriedade) and not 'each' in str(propriedade) and 'ganho_base' in colunas_validas):\n",
    "                    tds = linha.select('td')\n",
    "                    if(tds[0].get_text().strip()):\n",
    "                        try:\n",
    "                            ganho, xp = tds[0].get_text().split()\n",
    "                        except:\n",
    "                            xp = tds[0].get_text().split()[0]\n",
    "                    else:\n",
    "                        xp = 0\n",
    "\n",
    "                    ganho = linha.select('td')[0].get_text()\n",
    "                    if(',' in str(ganho)):\n",
    "                        ganho = ganho.replace(',', '.')\n",
    "                    if(' ' in str(ganho)):\n",
    "                        ganho = ganho.split()[0]\n",
    "                    if('k' in str(ganho) or 'K' in str(ganho)):\n",
    "                        ganho = ganho.replace('k','')\n",
    "                        ganho = ganho.replace('K','')\n",
    "                        ganho = float(ganho) * 1000\n",
    "                    if(not str(ganho).strip()):\n",
    "                        ganho = 0\n",
    "\n",
    "                    if('Diamonds' in str(propriedade)):\n",
    "                        moeda = 'diamantes'\n",
    "                    else:\n",
    "                        moeda = 'dinheiro'\n",
    "                    xp = float(xp)\n",
    "                    ganho = float(ganho)\n",
    "                    propriedades['xp'] = xp\n",
    "                    propriedades['ganho_base'] = ganho\n",
    "                    propriedades['moeda_ganho'] = moeda\n",
    "                elif('Harvest each' in str(propriedade) and 'tempo' in colunas_validas):\n",
    "                    propriedade = 'tempo'\n",
    "                    tempo_total = 0\n",
    "                    tempos = linha.select('td')[0].get_text().split()\n",
    "                    for i in tempos:\n",
    "                        if('m' in i):\n",
    "                            tempo = int(i.replace('m', ''))\n",
    "                        elif('hours' in tempos):\n",
    "                            tempo = float(tempos[0]) * 60\n",
    "                            tempo_total += tempo\n",
    "                            break\n",
    "                        elif('h' in i):\n",
    "                            tempo = int(i.replace('h', ''))\n",
    "                            tempo = tempo * 60\n",
    "                        elif('d' in i):\n",
    "                            tempo = int(i.replace('d', ''))\n",
    "                            tempo = tempo * 24 * 60\n",
    "                        tempo_total += tempo\n",
    "                    propriedades[propriedade] = tempo_total\n",
    "                elif('Resource' in str(propriedade)):\n",
    "                    propriedade = 'tipo_recurso'\n",
    "                    if(not tipo_colheita == 'Ponds'):\n",
    "                        tipo_recurso = linha.select('img')[0].get('alt')\n",
    "                    else:\n",
    "                        tipo_recurso = 'Fish'\n",
    "                    propriedades[propriedade] = tipo_recurso\n",
    "    else:\n",
    "        propriedades['custo'] = 0\n",
    "        propriedades['estacoes'] = []\n",
    "        propriedades['xp'] = 0\n",
    "        propriedades['tipo_recurso'] = 0\n",
    "        propriedades['tempo'] = 0\n",
    "\n",
    "    pprint(propriedades)"
   ]
  },
  {
   "cell_type": "code",
   "execution_count": 17,
   "metadata": {},
   "outputs": [
    {
     "name": "stdout",
     "output_type": "stream",
     "text": [
      "['custo', 'ganho_base', 'moeda_ganha', 'tipo_recurso', 'xp', 'estacoes']\n",
      "{'custo': 6000.0,\n",
      " 'ganho_base': 80.0,\n",
      " 'moeda_ganho': 'dinheiro',\n",
      " 'tipo_recurso': 'Fruits',\n",
      " 'url_img': 'https://vignette.wikia.nocookie.net/farmtogether/images/3/38/Mango.png/revision/latest?cb=20190331185949',\n",
      " 'xp': 6.0}\n"
     ]
    }
   ],
   "source": [
    "tipo_colheita = 'Trees'\n",
    "link = 'https://farmtogether.fandom.com/wiki/Mango'\n",
    "\n",
    "coletar_dados_item(tipo_colheita, link)"
   ]
  },
  {
   "cell_type": "code",
   "execution_count": null,
   "metadata": {},
   "outputs": [],
   "source": []
  },
  {
   "cell_type": "code",
   "execution_count": null,
   "metadata": {},
   "outputs": [],
   "source": []
  },
  {
   "cell_type": "code",
   "execution_count": null,
   "metadata": {},
   "outputs": [],
   "source": []
  },
  {
   "cell_type": "code",
   "execution_count": null,
   "metadata": {},
   "outputs": [],
   "source": []
  },
  {
   "cell_type": "code",
   "execution_count": null,
   "metadata": {},
   "outputs": [],
   "source": []
  },
  {
   "cell_type": "code",
   "execution_count": null,
   "metadata": {},
   "outputs": [],
   "source": []
  }
 ],
 "metadata": {
  "kernelspec": {
   "display_name": "Python 3",
   "language": "python",
   "name": "python3"
  },
  "language_info": {
   "codemirror_mode": {
    "name": "ipython",
    "version": 3
   },
   "file_extension": ".py",
   "mimetype": "text/x-python",
   "name": "python",
   "nbconvert_exporter": "python",
   "pygments_lexer": "ipython3",
   "version": "3.7.6"
  }
 },
 "nbformat": 4,
 "nbformat_minor": 4
}
