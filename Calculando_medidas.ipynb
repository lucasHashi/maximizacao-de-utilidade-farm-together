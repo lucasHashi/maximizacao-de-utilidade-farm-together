{
 "cells": [
  {
   "cell_type": "code",
   "execution_count": 1,
   "metadata": {},
   "outputs": [],
   "source": [
    "from pprint import pprint\n",
    "import pandas as pd\n",
    "import json"
   ]
  },
  {
   "cell_type": "code",
   "execution_count": 2,
   "metadata": {},
   "outputs": [],
   "source": [
    "def json_to_dfs(dict_dados):\n",
    "    dict_linhas = {}\n",
    "    for tipo_colheita in dict_dados:\n",
    "        colheita_categorias = dict_dados[tipo_colheita]\n",
    "        dict_linhas[tipo_colheita] = []\n",
    "        for categoria in colheita_categorias:\n",
    "            categoria_itens = colheita_categorias[categoria]\n",
    "            for nome_item in categoria_itens:\n",
    "                item = categoria_itens[nome_item]\n",
    "                item['tipo_colheita'] = tipo_colheita\n",
    "                item['categoria'] = categoria\n",
    "                \n",
    "                dict_linhas[tipo_colheita].append(item)\n",
    "    \n",
    "    dict_dfs = {}\n",
    "    for tipo_colheita in dict_linhas:\n",
    "        dados_atual = dict_linhas[tipo_colheita]\n",
    "        df_atual = pd.DataFrame(dados_atual)\n",
    "        dict_dfs[tipo_colheita] = df_atual\n",
    "    \n",
    "    return dict_dfs"
   ]
  },
  {
   "cell_type": "code",
   "execution_count": 3,
   "metadata": {
    "scrolled": true
   },
   "outputs": [
    {
     "output_type": "execute_result",
     "data": {
      "text/plain": "                                              url_img   custo moeda_custo  \\\n0   https://vignette.wikia.nocookie.net/farmtogeth...    35.0    dinheiro   \n1   https://vignette.wikia.nocookie.net/farmtogeth...    15.0    dinheiro   \n2   https://vignette.wikia.nocookie.net/farmtogeth...   100.0    dinheiro   \n3   https://vignette.wikia.nocookie.net/farmtogeth...   500.0    dinheiro   \n4   https://vignette.wikia.nocookie.net/farmtogeth...  4200.0    dinheiro   \n..                                                ...     ...         ...   \n92  https://vignette.wikia.nocookie.net/farmtogeth...   300.0    dinheiro   \n93  https://vignette.wikia.nocookie.net/farmtogeth...   800.0    dinheiro   \n94  https://vignette.wikia.nocookie.net/farmtogeth...   500.0    dinheiro   \n95  https://vignette.wikia.nocookie.net/farmtogeth...  1000.0    dinheiro   \n96                                                        0.0           0   \n\n                          estacoes    xp  ganho_base moeda_ganho   tempo  \\\n0           [fall, spring, winter]   2.0        60.0    dinheiro    20.0   \n1   [fall, spring, winter, summer]   1.0        30.0    dinheiro    10.0   \n2                 [spring, summer]   5.0       140.0    dinheiro    45.0   \n3                   [fall, spring]  65.0       850.0    dinheiro  1080.0   \n4           [fall, spring, winter]  10.0      4300.0    dinheiro    20.0   \n..                             ...   ...         ...         ...     ...   \n92  [fall, spring, winter, summer]   2.0         1.0    diamante    20.0   \n93  [fall, spring, winter, summer]  18.0         1.0    diamante   180.0   \n94  [fall, spring, winter, summer]  11.0         1.0    diamante    90.0   \n95  [fall, spring, winter, summer]  22.0         1.0    diamante   240.0   \n96                              []   0.0         0.0    dinheiro     0.0   \n\n   tipo_recurso              nome  \\\n0    Vegetables            Carrot   \n1    Vegetables           Lettuce   \n2    Vegetables           Cabbage   \n3    Vegetables  Lombardy Cabbage   \n4    Vegetables     Purple Carrot   \n..          ...               ...   \n92  No Resource     Toy Pinwheels   \n93  No Resource      Musical Root   \n94  No Resource     Magic Crystal   \n95  No Resource     Party Candles   \n96            0              Fern   \n\n                                                 link tipo_colheita  \\\n0         https://farmtogether.fandom.com/wiki/Carrot         Crops   \n1        https://farmtogether.fandom.com/wiki/Lettuce         Crops   \n2        https://farmtogether.fandom.com/wiki/Cabbage         Crops   \n3   https://farmtogether.fandom.com/wiki/Lombardy_...         Crops   \n4   https://farmtogether.fandom.com/wiki/Purple_Ca...         Crops   \n..                                                ...           ...   \n92  https://farmtogether.fandom.com/wiki/Toy_Pinwh...         Crops   \n93  https://farmtogether.fandom.com/wiki/Musical_Root         Crops   \n94  https://farmtogether.fandom.com/wiki/Magic_Cry...         Crops   \n95  https://farmtogether.fandom.com/wiki/Party_Can...         Crops   \n96          https://farmtogether.fandom.com/wiki/Fern         Crops   \n\n     categoria  \n0   Vegetables  \n1   Vegetables  \n2   Vegetables  \n3   Vegetables  \n4   Vegetables  \n..         ...  \n92       Event  \n93       Event  \n94       Event  \n95       Event  \n96       Event  \n\n[97 rows x 13 columns]",
      "text/html": "<div>\n<style scoped>\n    .dataframe tbody tr th:only-of-type {\n        vertical-align: middle;\n    }\n\n    .dataframe tbody tr th {\n        vertical-align: top;\n    }\n\n    .dataframe thead th {\n        text-align: right;\n    }\n</style>\n<table border=\"1\" class=\"dataframe\">\n  <thead>\n    <tr style=\"text-align: right;\">\n      <th></th>\n      <th>url_img</th>\n      <th>custo</th>\n      <th>moeda_custo</th>\n      <th>estacoes</th>\n      <th>xp</th>\n      <th>ganho_base</th>\n      <th>moeda_ganho</th>\n      <th>tempo</th>\n      <th>tipo_recurso</th>\n      <th>nome</th>\n      <th>link</th>\n      <th>tipo_colheita</th>\n      <th>categoria</th>\n    </tr>\n  </thead>\n  <tbody>\n    <tr>\n      <th>0</th>\n      <td>https://vignette.wikia.nocookie.net/farmtogeth...</td>\n      <td>35.0</td>\n      <td>dinheiro</td>\n      <td>[fall, spring, winter]</td>\n      <td>2.0</td>\n      <td>60.0</td>\n      <td>dinheiro</td>\n      <td>20.0</td>\n      <td>Vegetables</td>\n      <td>Carrot</td>\n      <td>https://farmtogether.fandom.com/wiki/Carrot</td>\n      <td>Crops</td>\n      <td>Vegetables</td>\n    </tr>\n    <tr>\n      <th>1</th>\n      <td>https://vignette.wikia.nocookie.net/farmtogeth...</td>\n      <td>15.0</td>\n      <td>dinheiro</td>\n      <td>[fall, spring, winter, summer]</td>\n      <td>1.0</td>\n      <td>30.0</td>\n      <td>dinheiro</td>\n      <td>10.0</td>\n      <td>Vegetables</td>\n      <td>Lettuce</td>\n      <td>https://farmtogether.fandom.com/wiki/Lettuce</td>\n      <td>Crops</td>\n      <td>Vegetables</td>\n    </tr>\n    <tr>\n      <th>2</th>\n      <td>https://vignette.wikia.nocookie.net/farmtogeth...</td>\n      <td>100.0</td>\n      <td>dinheiro</td>\n      <td>[spring, summer]</td>\n      <td>5.0</td>\n      <td>140.0</td>\n      <td>dinheiro</td>\n      <td>45.0</td>\n      <td>Vegetables</td>\n      <td>Cabbage</td>\n      <td>https://farmtogether.fandom.com/wiki/Cabbage</td>\n      <td>Crops</td>\n      <td>Vegetables</td>\n    </tr>\n    <tr>\n      <th>3</th>\n      <td>https://vignette.wikia.nocookie.net/farmtogeth...</td>\n      <td>500.0</td>\n      <td>dinheiro</td>\n      <td>[fall, spring]</td>\n      <td>65.0</td>\n      <td>850.0</td>\n      <td>dinheiro</td>\n      <td>1080.0</td>\n      <td>Vegetables</td>\n      <td>Lombardy Cabbage</td>\n      <td>https://farmtogether.fandom.com/wiki/Lombardy_...</td>\n      <td>Crops</td>\n      <td>Vegetables</td>\n    </tr>\n    <tr>\n      <th>4</th>\n      <td>https://vignette.wikia.nocookie.net/farmtogeth...</td>\n      <td>4200.0</td>\n      <td>dinheiro</td>\n      <td>[fall, spring, winter]</td>\n      <td>10.0</td>\n      <td>4300.0</td>\n      <td>dinheiro</td>\n      <td>20.0</td>\n      <td>Vegetables</td>\n      <td>Purple Carrot</td>\n      <td>https://farmtogether.fandom.com/wiki/Purple_Ca...</td>\n      <td>Crops</td>\n      <td>Vegetables</td>\n    </tr>\n    <tr>\n      <th>...</th>\n      <td>...</td>\n      <td>...</td>\n      <td>...</td>\n      <td>...</td>\n      <td>...</td>\n      <td>...</td>\n      <td>...</td>\n      <td>...</td>\n      <td>...</td>\n      <td>...</td>\n      <td>...</td>\n      <td>...</td>\n      <td>...</td>\n    </tr>\n    <tr>\n      <th>92</th>\n      <td>https://vignette.wikia.nocookie.net/farmtogeth...</td>\n      <td>300.0</td>\n      <td>dinheiro</td>\n      <td>[fall, spring, winter, summer]</td>\n      <td>2.0</td>\n      <td>1.0</td>\n      <td>diamante</td>\n      <td>20.0</td>\n      <td>No Resource</td>\n      <td>Toy Pinwheels</td>\n      <td>https://farmtogether.fandom.com/wiki/Toy_Pinwh...</td>\n      <td>Crops</td>\n      <td>Event</td>\n    </tr>\n    <tr>\n      <th>93</th>\n      <td>https://vignette.wikia.nocookie.net/farmtogeth...</td>\n      <td>800.0</td>\n      <td>dinheiro</td>\n      <td>[fall, spring, winter, summer]</td>\n      <td>18.0</td>\n      <td>1.0</td>\n      <td>diamante</td>\n      <td>180.0</td>\n      <td>No Resource</td>\n      <td>Musical Root</td>\n      <td>https://farmtogether.fandom.com/wiki/Musical_Root</td>\n      <td>Crops</td>\n      <td>Event</td>\n    </tr>\n    <tr>\n      <th>94</th>\n      <td>https://vignette.wikia.nocookie.net/farmtogeth...</td>\n      <td>500.0</td>\n      <td>dinheiro</td>\n      <td>[fall, spring, winter, summer]</td>\n      <td>11.0</td>\n      <td>1.0</td>\n      <td>diamante</td>\n      <td>90.0</td>\n      <td>No Resource</td>\n      <td>Magic Crystal</td>\n      <td>https://farmtogether.fandom.com/wiki/Magic_Cry...</td>\n      <td>Crops</td>\n      <td>Event</td>\n    </tr>\n    <tr>\n      <th>95</th>\n      <td>https://vignette.wikia.nocookie.net/farmtogeth...</td>\n      <td>1000.0</td>\n      <td>dinheiro</td>\n      <td>[fall, spring, winter, summer]</td>\n      <td>22.0</td>\n      <td>1.0</td>\n      <td>diamante</td>\n      <td>240.0</td>\n      <td>No Resource</td>\n      <td>Party Candles</td>\n      <td>https://farmtogether.fandom.com/wiki/Party_Can...</td>\n      <td>Crops</td>\n      <td>Event</td>\n    </tr>\n    <tr>\n      <th>96</th>\n      <td></td>\n      <td>0.0</td>\n      <td>0</td>\n      <td>[]</td>\n      <td>0.0</td>\n      <td>0.0</td>\n      <td>dinheiro</td>\n      <td>0.0</td>\n      <td>0</td>\n      <td>Fern</td>\n      <td>https://farmtogether.fandom.com/wiki/Fern</td>\n      <td>Crops</td>\n      <td>Event</td>\n    </tr>\n  </tbody>\n</table>\n<p>97 rows × 13 columns</p>\n</div>"
     },
     "metadata": {},
     "execution_count": 3
    }
   ],
   "source": [
    "with open('dados_completos.json', 'r') as json_dados:\n",
    "    dict_dados = json.loads(json_dados.read())\n",
    "\n",
    "dict_dfs = json_to_dfs(dict_dados)\n",
    "dict_dfs['Crops']"
   ]
  },
  {
   "cell_type": "markdown",
   "metadata": {},
   "source": [
    "# Passar por cada df e incluir a coluna de ganho/minuto"
   ]
  },
  {
   "cell_type": "markdown",
   "metadata": {},
   "source": [
    "## Padronização dos ganho em dinheiros, não em diamantes"
   ]
  },
  {
   "cell_type": "markdown",
   "metadata": {},
   "source": [
    "### Dict de conversão"
   ]
  },
  {
   "cell_type": "code",
   "execution_count": 4,
   "metadata": {},
   "outputs": [],
   "source": [
    "DICT_CONVERSAO = {\n",
    "    'diamante_dinheiro': 1000,\n",
    "    'fruit_dinheiro': 500,\n",
    "    'vegetable_dinheiro': 250,\n",
    "    'grape_dinheiro': 400,\n",
    "    'flower_dinheiro': 400,\n",
    "    'cereal_dinheiro': 200,\n",
    "    'nut_dinheiro': 400,\n",
    "    'milk_dinheiro': 500,\n",
    "    'egg_dinheiro': 1000,\n",
    "    'fish_dinheiro': 400,\n",
    "    'honey_dinheiro': 5000,\n",
    "    'fabric_dinheiro': 400,\n",
    "    'cheese_dinheiro': 10000,\n",
    "    'jam_dinheiro': 10000,\n",
    "    'mushroom_dinheiro': 400,\n",
    "    'spice_dinheiro': float(10000/15)\n",
    "}"
   ]
  },
  {
   "cell_type": "markdown",
   "metadata": {},
   "source": [
    "### Tipos de ganhos que podem ser gerados"
   ]
  },
  {
   "cell_type": "markdown",
   "metadata": {},
   "source": [
    " - Dinheiro -> Dinheiro: 'dinheiro_dinheiro'\n",
    " - Dinheiro -> Diamante: 'dinheiro_diamante'\n",
    " - Diamante -> Dinheiro: 'diamante_dinheiro'\n",
    " - Diamante -> Diamante: 'diamante_diamante'"
   ]
  },
  {
   "cell_type": "markdown",
   "metadata": {},
   "source": [
    "## Crops"
   ]
  },
  {
   "cell_type": "markdown",
   "metadata": {},
   "source": [
    "### Gerando realmente uma medida de valor"
   ]
  },
  {
   "cell_type": "code",
   "execution_count": 5,
   "metadata": {
    "scrolled": true
   },
   "outputs": [
    {
     "output_type": "execute_result",
     "data": {
      "text/plain": "                   nome   custo moeda_custo  ganho_base    xp moeda_ganho  \\\n72           Sugar Cane  1400.0    dinheiro      1480.0  50.0    dinheiro   \n28               Jicama  2150.0    dinheiro      2220.0   6.0    dinheiro   \n42                Melon  1000.0    dinheiro      1060.0   5.0    dinheiro   \n4         Purple Carrot  4200.0    dinheiro      4300.0  10.0    dinheiro   \n18      Yellow Zucchini   850.0    dinheiro       920.0   6.0    dinheiro   \n51     Black Goji Berry  2250.0    dinheiro      2400.0  10.0    dinheiro   \n14            Romanesco  6000.0    dinheiro      6500.0  33.0    dinheiro   \n10             Broccoli  5000.0    dinheiro      5250.0  20.0    dinheiro   \n15  Cheddar Cauliflower  2400.0    dinheiro      2600.0  14.0    dinheiro   \n27               Turnip   200.0    dinheiro       225.0   3.0    dinheiro   \n\n    tempo  ganho_por_min         tipo_ganho  xp_por_min  \n72   60.0       1.166667  dinheiro_dinheiro    0.833333  \n28   10.0       6.000000  dinheiro_dinheiro    0.600000  \n42   10.0       5.000000  dinheiro_dinheiro    0.500000  \n4    20.0       4.500000  dinheiro_dinheiro    0.500000  \n18   15.0       4.000000  dinheiro_dinheiro    0.400000  \n51   25.0       5.600000  dinheiro_dinheiro    0.400000  \n14   90.0       5.444444  dinheiro_dinheiro    0.366667  \n10   60.0       4.000000  dinheiro_dinheiro    0.333333  \n15   45.0       4.222222  dinheiro_dinheiro    0.311111  \n27   10.0       1.500000  dinheiro_dinheiro    0.300000  ",
      "text/html": "<div>\n<style scoped>\n    .dataframe tbody tr th:only-of-type {\n        vertical-align: middle;\n    }\n\n    .dataframe tbody tr th {\n        vertical-align: top;\n    }\n\n    .dataframe thead th {\n        text-align: right;\n    }\n</style>\n<table border=\"1\" class=\"dataframe\">\n  <thead>\n    <tr style=\"text-align: right;\">\n      <th></th>\n      <th>nome</th>\n      <th>custo</th>\n      <th>moeda_custo</th>\n      <th>ganho_base</th>\n      <th>xp</th>\n      <th>moeda_ganho</th>\n      <th>tempo</th>\n      <th>ganho_por_min</th>\n      <th>tipo_ganho</th>\n      <th>xp_por_min</th>\n    </tr>\n  </thead>\n  <tbody>\n    <tr>\n      <th>72</th>\n      <td>Sugar Cane</td>\n      <td>1400.0</td>\n      <td>dinheiro</td>\n      <td>1480.0</td>\n      <td>50.0</td>\n      <td>dinheiro</td>\n      <td>60.0</td>\n      <td>1.166667</td>\n      <td>dinheiro_dinheiro</td>\n      <td>0.833333</td>\n    </tr>\n    <tr>\n      <th>28</th>\n      <td>Jicama</td>\n      <td>2150.0</td>\n      <td>dinheiro</td>\n      <td>2220.0</td>\n      <td>6.0</td>\n      <td>dinheiro</td>\n      <td>10.0</td>\n      <td>6.000000</td>\n      <td>dinheiro_dinheiro</td>\n      <td>0.600000</td>\n    </tr>\n    <tr>\n      <th>42</th>\n      <td>Melon</td>\n      <td>1000.0</td>\n      <td>dinheiro</td>\n      <td>1060.0</td>\n      <td>5.0</td>\n      <td>dinheiro</td>\n      <td>10.0</td>\n      <td>5.000000</td>\n      <td>dinheiro_dinheiro</td>\n      <td>0.500000</td>\n    </tr>\n    <tr>\n      <th>4</th>\n      <td>Purple Carrot</td>\n      <td>4200.0</td>\n      <td>dinheiro</td>\n      <td>4300.0</td>\n      <td>10.0</td>\n      <td>dinheiro</td>\n      <td>20.0</td>\n      <td>4.500000</td>\n      <td>dinheiro_dinheiro</td>\n      <td>0.500000</td>\n    </tr>\n    <tr>\n      <th>18</th>\n      <td>Yellow Zucchini</td>\n      <td>850.0</td>\n      <td>dinheiro</td>\n      <td>920.0</td>\n      <td>6.0</td>\n      <td>dinheiro</td>\n      <td>15.0</td>\n      <td>4.000000</td>\n      <td>dinheiro_dinheiro</td>\n      <td>0.400000</td>\n    </tr>\n    <tr>\n      <th>51</th>\n      <td>Black Goji Berry</td>\n      <td>2250.0</td>\n      <td>dinheiro</td>\n      <td>2400.0</td>\n      <td>10.0</td>\n      <td>dinheiro</td>\n      <td>25.0</td>\n      <td>5.600000</td>\n      <td>dinheiro_dinheiro</td>\n      <td>0.400000</td>\n    </tr>\n    <tr>\n      <th>14</th>\n      <td>Romanesco</td>\n      <td>6000.0</td>\n      <td>dinheiro</td>\n      <td>6500.0</td>\n      <td>33.0</td>\n      <td>dinheiro</td>\n      <td>90.0</td>\n      <td>5.444444</td>\n      <td>dinheiro_dinheiro</td>\n      <td>0.366667</td>\n    </tr>\n    <tr>\n      <th>10</th>\n      <td>Broccoli</td>\n      <td>5000.0</td>\n      <td>dinheiro</td>\n      <td>5250.0</td>\n      <td>20.0</td>\n      <td>dinheiro</td>\n      <td>60.0</td>\n      <td>4.000000</td>\n      <td>dinheiro_dinheiro</td>\n      <td>0.333333</td>\n    </tr>\n    <tr>\n      <th>15</th>\n      <td>Cheddar Cauliflower</td>\n      <td>2400.0</td>\n      <td>dinheiro</td>\n      <td>2600.0</td>\n      <td>14.0</td>\n      <td>dinheiro</td>\n      <td>45.0</td>\n      <td>4.222222</td>\n      <td>dinheiro_dinheiro</td>\n      <td>0.311111</td>\n    </tr>\n    <tr>\n      <th>27</th>\n      <td>Turnip</td>\n      <td>200.0</td>\n      <td>dinheiro</td>\n      <td>225.0</td>\n      <td>3.0</td>\n      <td>dinheiro</td>\n      <td>10.0</td>\n      <td>1.500000</td>\n      <td>dinheiro_dinheiro</td>\n      <td>0.300000</td>\n    </tr>\n  </tbody>\n</table>\n</div>"
     },
     "metadata": {},
     "execution_count": 5
    }
   ],
   "source": [
    "df_crops = dict_dfs['Crops'].copy()\n",
    "CUSTO_BASE_CROPS = 10 #moeda = dinheiros\n",
    "\n",
    "# Classificar cada item com seu tipo de ganho\n",
    "df_crops.loc[(df_crops['moeda_custo'] == df_crops['moeda_ganho']) & (df_crops['moeda_custo'] == 'dinheiro'), 'tipo_ganho'] = 'dinheiro_dinheiro'\n",
    "df_crops.loc[(df_crops['moeda_custo'] != df_crops['moeda_ganho']) & (df_crops['moeda_custo'] == 'dinheiro'), 'tipo_ganho'] = 'dinheiro_diamante'\n",
    "df_crops.loc[(df_crops['moeda_custo'] != df_crops['moeda_ganho']) & (df_crops['moeda_custo'] == 'diamante'), 'tipo_ganho'] = 'diamante_dinheiro'\n",
    "df_crops.loc[(df_crops['moeda_custo'] == df_crops['moeda_ganho']) & (df_crops['moeda_custo'] == 'diamante'), 'tipo_ganho'] = 'diamante_diamante'\n",
    "\n",
    "df_crops['ganho_por_min'] = 0\n",
    "df_crops.loc[((df_crops['tipo_ganho'] == 'dinheiro_dinheiro') | (df_crops['tipo_ganho'] == 'diamante_diamante')), 'ganho_por_min'] = (df_crops['ganho_base'] - (df_crops['custo'] + CUSTO_BASE_CROPS))/df_crops['tempo']\n",
    "\n",
    "df_crops['xp_por_min'] = 0\n",
    "df_crops['xp_por_min'] = df_crops['xp']/df_crops['tempo']\n",
    "df_crops[['nome', 'custo', 'moeda_custo', 'ganho_base', 'xp', 'moeda_ganho', 'tempo', 'ganho_por_min', 'tipo_ganho', 'xp_por_min']].sort_values('xp_por_min', ascending=False)[:10]"
   ]
  },
  {
   "cell_type": "code",
   "execution_count": 6,
   "metadata": {},
   "outputs": [
    {
     "output_type": "execute_result",
     "data": {
      "text/plain": "                 nome    custo moeda_custo  ganho_base     xp moeda_ganho  \\\n42              Melon   1000.0    dinheiro      1060.0    5.0    dinheiro   \n16  Crookneck Pumpkin  10000.0    dinheiro     12000.0  110.0    dinheiro   \n47           Physalis   8000.0    dinheiro     11000.0  170.0    dinheiro   \n43          Pineapple   5500.0    dinheiro      7000.0  115.0    dinheiro   \n44          Kiwifruit   1000.0    dinheiro      1600.0   86.0    dinheiro   \n46         Strawberry    800.0    dinheiro      1500.0  105.0    dinheiro   \n45         Watermelon    250.0    dinheiro       800.0   95.0    dinheiro   \n\n     tempo  ganho_por_min         tipo_ganho  xp_por_min  \n42    10.0       5.000000  dinheiro_dinheiro    0.500000  \n16   600.0       3.316667  dinheiro_dinheiro    0.183333  \n47  1440.0       2.076389  dinheiro_dinheiro    0.118056  \n43   960.0       1.552083  dinheiro_dinheiro    0.119792  \n44  1440.0       0.409722  dinheiro_dinheiro    0.059722  \n46  2160.0       0.319444  dinheiro_dinheiro    0.048611  \n45  2880.0       0.187500  dinheiro_dinheiro    0.032986  ",
      "text/html": "<div>\n<style scoped>\n    .dataframe tbody tr th:only-of-type {\n        vertical-align: middle;\n    }\n\n    .dataframe tbody tr th {\n        vertical-align: top;\n    }\n\n    .dataframe thead th {\n        text-align: right;\n    }\n</style>\n<table border=\"1\" class=\"dataframe\">\n  <thead>\n    <tr style=\"text-align: right;\">\n      <th></th>\n      <th>nome</th>\n      <th>custo</th>\n      <th>moeda_custo</th>\n      <th>ganho_base</th>\n      <th>xp</th>\n      <th>moeda_ganho</th>\n      <th>tempo</th>\n      <th>ganho_por_min</th>\n      <th>tipo_ganho</th>\n      <th>xp_por_min</th>\n    </tr>\n  </thead>\n  <tbody>\n    <tr>\n      <th>42</th>\n      <td>Melon</td>\n      <td>1000.0</td>\n      <td>dinheiro</td>\n      <td>1060.0</td>\n      <td>5.0</td>\n      <td>dinheiro</td>\n      <td>10.0</td>\n      <td>5.000000</td>\n      <td>dinheiro_dinheiro</td>\n      <td>0.500000</td>\n    </tr>\n    <tr>\n      <th>16</th>\n      <td>Crookneck Pumpkin</td>\n      <td>10000.0</td>\n      <td>dinheiro</td>\n      <td>12000.0</td>\n      <td>110.0</td>\n      <td>dinheiro</td>\n      <td>600.0</td>\n      <td>3.316667</td>\n      <td>dinheiro_dinheiro</td>\n      <td>0.183333</td>\n    </tr>\n    <tr>\n      <th>47</th>\n      <td>Physalis</td>\n      <td>8000.0</td>\n      <td>dinheiro</td>\n      <td>11000.0</td>\n      <td>170.0</td>\n      <td>dinheiro</td>\n      <td>1440.0</td>\n      <td>2.076389</td>\n      <td>dinheiro_dinheiro</td>\n      <td>0.118056</td>\n    </tr>\n    <tr>\n      <th>43</th>\n      <td>Pineapple</td>\n      <td>5500.0</td>\n      <td>dinheiro</td>\n      <td>7000.0</td>\n      <td>115.0</td>\n      <td>dinheiro</td>\n      <td>960.0</td>\n      <td>1.552083</td>\n      <td>dinheiro_dinheiro</td>\n      <td>0.119792</td>\n    </tr>\n    <tr>\n      <th>44</th>\n      <td>Kiwifruit</td>\n      <td>1000.0</td>\n      <td>dinheiro</td>\n      <td>1600.0</td>\n      <td>86.0</td>\n      <td>dinheiro</td>\n      <td>1440.0</td>\n      <td>0.409722</td>\n      <td>dinheiro_dinheiro</td>\n      <td>0.059722</td>\n    </tr>\n    <tr>\n      <th>46</th>\n      <td>Strawberry</td>\n      <td>800.0</td>\n      <td>dinheiro</td>\n      <td>1500.0</td>\n      <td>105.0</td>\n      <td>dinheiro</td>\n      <td>2160.0</td>\n      <td>0.319444</td>\n      <td>dinheiro_dinheiro</td>\n      <td>0.048611</td>\n    </tr>\n    <tr>\n      <th>45</th>\n      <td>Watermelon</td>\n      <td>250.0</td>\n      <td>dinheiro</td>\n      <td>800.0</td>\n      <td>95.0</td>\n      <td>dinheiro</td>\n      <td>2880.0</td>\n      <td>0.187500</td>\n      <td>dinheiro_dinheiro</td>\n      <td>0.032986</td>\n    </tr>\n  </tbody>\n</table>\n</div>"
     },
     "metadata": {},
     "execution_count": 6
    }
   ],
   "source": [
    "group_recurso = df_crops.groupby('tipo_recurso')\n",
    "df_fruits = group_recurso.get_group('Fruits')\n",
    "df_fruits[['nome', 'custo', 'moeda_custo', 'ganho_base', 'xp', 'moeda_ganho', 'tempo', 'ganho_por_min', 'tipo_ganho', 'xp_por_min']].sort_values('ganho_por_min', ascending=False)"
   ]
  },
  {
   "cell_type": "code",
   "execution_count": 7,
   "metadata": {},
   "outputs": [
    {
     "output_type": "execute_result",
     "data": {
      "text/plain": "             nome  ganho_por_min\n62    Red Sorghum       1.733333\n61  White Sorghum       1.483333\n57         Barley       1.034722\n59            Rye       0.861111\n60           Corn       0.343750\n58          Wheat       0.270833",
      "text/html": "<div>\n<style scoped>\n    .dataframe tbody tr th:only-of-type {\n        vertical-align: middle;\n    }\n\n    .dataframe tbody tr th {\n        vertical-align: top;\n    }\n\n    .dataframe thead th {\n        text-align: right;\n    }\n</style>\n<table border=\"1\" class=\"dataframe\">\n  <thead>\n    <tr style=\"text-align: right;\">\n      <th></th>\n      <th>nome</th>\n      <th>ganho_por_min</th>\n    </tr>\n  </thead>\n  <tbody>\n    <tr>\n      <th>62</th>\n      <td>Red Sorghum</td>\n      <td>1.733333</td>\n    </tr>\n    <tr>\n      <th>61</th>\n      <td>White Sorghum</td>\n      <td>1.483333</td>\n    </tr>\n    <tr>\n      <th>57</th>\n      <td>Barley</td>\n      <td>1.034722</td>\n    </tr>\n    <tr>\n      <th>59</th>\n      <td>Rye</td>\n      <td>0.861111</td>\n    </tr>\n    <tr>\n      <th>60</th>\n      <td>Corn</td>\n      <td>0.343750</td>\n    </tr>\n    <tr>\n      <th>58</th>\n      <td>Wheat</td>\n      <td>0.270833</td>\n    </tr>\n  </tbody>\n</table>\n</div>"
     },
     "metadata": {},
     "execution_count": 7
    }
   ],
   "source": [
    "cereal = df_crops['tipo_recurso'] == 'Cereals'\n",
    "\n",
    "df_crops[['nome', 'ganho_por_min']][cereal].sort_values('ganho_por_min', ascending=False)"
   ]
  },
  {
   "cell_type": "code",
   "execution_count": 8,
   "metadata": {
    "scrolled": true
   },
   "outputs": [
    {
     "output_type": "execute_result",
     "data": {
      "text/plain": "                                              url_img    custo moeda_custo  \\\n67  https://vignette.wikia.nocookie.net/farmtogeth...  10000.0    dinheiro   \n68  https://vignette.wikia.nocookie.net/farmtogeth...    500.0    dinheiro   \n69  https://vignette.wikia.nocookie.net/farmtogeth...   4400.0    dinheiro   \n70  https://vignette.wikia.nocookie.net/farmtogeth...   2200.0    dinheiro   \n75  https://vignette.wikia.nocookie.net/farmtogeth...   1000.0    dinheiro   \n\n                          estacoes     xp  ganho_base moeda_ganho  tempo  \\\n67                        [spring]  100.0        15.0    diamante  390.0   \n68                  [fall, summer]   25.0         1.0    diamante  240.0   \n69                [spring, winter]   65.0         8.0    diamante  360.0   \n70                  [fall, winter]   40.0         4.0    diamante  300.0   \n75  [fall, spring, winter, summer]   20.0         2.0    diamante  120.0   \n\n   tipo_recurso              nome  \\\n67        Spice          Turmeric   \n68        Spice  Black Peppercorn   \n69        Spice   Pink Peppercorn   \n70        Spice  White Peppercorn   \n75   Vegetables             Chive   \n\n                                                 link tipo_colheita categoria  \\\n67      https://farmtogether.fandom.com/wiki/Turmeric         Crops     Spice   \n68  https://farmtogether.fandom.com/wiki/Black_Pep...         Crops     Spice   \n69  https://farmtogether.fandom.com/wiki/Pink_Pepp...         Crops     Spice   \n70  https://farmtogether.fandom.com/wiki/White_Pep...         Crops     Spice   \n75         https://farmtogether.fandom.com/wiki/Chive         Crops       DLC   \n\n           tipo_ganho  ganho_por_min  xp_por_min  dinheiros_por_diamante  \n67  dinheiro_diamante            0.0    0.256410              667.333333  \n68  dinheiro_diamante            0.0    0.104167              510.000000  \n69  dinheiro_diamante            0.0    0.180556              551.250000  \n70  dinheiro_diamante            0.0    0.133333              552.500000  \n75  dinheiro_diamante            0.0    0.166667              505.000000  ",
      "text/html": "<div>\n<style scoped>\n    .dataframe tbody tr th:only-of-type {\n        vertical-align: middle;\n    }\n\n    .dataframe tbody tr th {\n        vertical-align: top;\n    }\n\n    .dataframe thead th {\n        text-align: right;\n    }\n</style>\n<table border=\"1\" class=\"dataframe\">\n  <thead>\n    <tr style=\"text-align: right;\">\n      <th></th>\n      <th>url_img</th>\n      <th>custo</th>\n      <th>moeda_custo</th>\n      <th>estacoes</th>\n      <th>xp</th>\n      <th>ganho_base</th>\n      <th>moeda_ganho</th>\n      <th>tempo</th>\n      <th>tipo_recurso</th>\n      <th>nome</th>\n      <th>link</th>\n      <th>tipo_colheita</th>\n      <th>categoria</th>\n      <th>tipo_ganho</th>\n      <th>ganho_por_min</th>\n      <th>xp_por_min</th>\n      <th>dinheiros_por_diamante</th>\n    </tr>\n  </thead>\n  <tbody>\n    <tr>\n      <th>67</th>\n      <td>https://vignette.wikia.nocookie.net/farmtogeth...</td>\n      <td>10000.0</td>\n      <td>dinheiro</td>\n      <td>[spring]</td>\n      <td>100.0</td>\n      <td>15.0</td>\n      <td>diamante</td>\n      <td>390.0</td>\n      <td>Spice</td>\n      <td>Turmeric</td>\n      <td>https://farmtogether.fandom.com/wiki/Turmeric</td>\n      <td>Crops</td>\n      <td>Spice</td>\n      <td>dinheiro_diamante</td>\n      <td>0.0</td>\n      <td>0.256410</td>\n      <td>667.333333</td>\n    </tr>\n    <tr>\n      <th>68</th>\n      <td>https://vignette.wikia.nocookie.net/farmtogeth...</td>\n      <td>500.0</td>\n      <td>dinheiro</td>\n      <td>[fall, summer]</td>\n      <td>25.0</td>\n      <td>1.0</td>\n      <td>diamante</td>\n      <td>240.0</td>\n      <td>Spice</td>\n      <td>Black Peppercorn</td>\n      <td>https://farmtogether.fandom.com/wiki/Black_Pep...</td>\n      <td>Crops</td>\n      <td>Spice</td>\n      <td>dinheiro_diamante</td>\n      <td>0.0</td>\n      <td>0.104167</td>\n      <td>510.000000</td>\n    </tr>\n    <tr>\n      <th>69</th>\n      <td>https://vignette.wikia.nocookie.net/farmtogeth...</td>\n      <td>4400.0</td>\n      <td>dinheiro</td>\n      <td>[spring, winter]</td>\n      <td>65.0</td>\n      <td>8.0</td>\n      <td>diamante</td>\n      <td>360.0</td>\n      <td>Spice</td>\n      <td>Pink Peppercorn</td>\n      <td>https://farmtogether.fandom.com/wiki/Pink_Pepp...</td>\n      <td>Crops</td>\n      <td>Spice</td>\n      <td>dinheiro_diamante</td>\n      <td>0.0</td>\n      <td>0.180556</td>\n      <td>551.250000</td>\n    </tr>\n    <tr>\n      <th>70</th>\n      <td>https://vignette.wikia.nocookie.net/farmtogeth...</td>\n      <td>2200.0</td>\n      <td>dinheiro</td>\n      <td>[fall, winter]</td>\n      <td>40.0</td>\n      <td>4.0</td>\n      <td>diamante</td>\n      <td>300.0</td>\n      <td>Spice</td>\n      <td>White Peppercorn</td>\n      <td>https://farmtogether.fandom.com/wiki/White_Pep...</td>\n      <td>Crops</td>\n      <td>Spice</td>\n      <td>dinheiro_diamante</td>\n      <td>0.0</td>\n      <td>0.133333</td>\n      <td>552.500000</td>\n    </tr>\n    <tr>\n      <th>75</th>\n      <td>https://vignette.wikia.nocookie.net/farmtogeth...</td>\n      <td>1000.0</td>\n      <td>dinheiro</td>\n      <td>[fall, spring, winter, summer]</td>\n      <td>20.0</td>\n      <td>2.0</td>\n      <td>diamante</td>\n      <td>120.0</td>\n      <td>Vegetables</td>\n      <td>Chive</td>\n      <td>https://farmtogether.fandom.com/wiki/Chive</td>\n      <td>Crops</td>\n      <td>DLC</td>\n      <td>dinheiro_diamante</td>\n      <td>0.0</td>\n      <td>0.166667</td>\n      <td>505.000000</td>\n    </tr>\n  </tbody>\n</table>\n</div>"
     },
     "metadata": {},
     "execution_count": 8
    }
   ],
   "source": [
    "df_crops['dinheiros_por_diamante'] = 0\n",
    "df_crops.loc[df_crops['tipo_ganho'] == 'diamante_dinheiro', 'dinheiros_por_diamante'] = df_crops['ganho_base']/df_crops['custo']\n",
    "df_crops.loc[df_crops['tipo_ganho'] == 'dinheiro_diamante', 'dinheiros_por_diamante'] = (df_crops['custo'] + CUSTO_BASE_CROPS)/df_crops['ganho_base']\n",
    "\n",
    "diamante_dinheiro = df_crops['tipo_ganho'] == 'diamante_dinheiro'\n",
    "dinheiro_diamante = df_crops['tipo_ganho'] == 'dinheiro_diamante'\n",
    "df_crops[diamante_dinheiro | dinheiro_diamante][:5]"
   ]
  },
  {
   "cell_type": "code",
   "execution_count": 9,
   "metadata": {
    "scrolled": true
   },
   "outputs": [
    {
     "output_type": "stream",
     "name": "stdout",
     "text": "{'crop': '[{\"nome\":\"Turmeric\",\"custo\":10000.0,\"moeda_custo\":\"dinheiro\",\"ganho_base\":15.0,\"moeda_ganho\":\"diamante\",\"dinheiros_por_diamante\":667.3333333333},{\"nome\":\"Black Peppercorn\",\"custo\":500.0,\"moeda_custo\":\"dinheiro\",\"ganho_base\":1.0,\"moeda_ganho\":\"diamante\",\"dinheiros_por_diamante\":510.0},{\"nome\":\"Pink Peppercorn\",\"custo\":4400.0,\"moeda_custo\":\"dinheiro\",\"ganho_base\":8.0,\"moeda_ganho\":\"diamante\",\"dinheiros_por_diamante\":551.25},{\"nome\":\"White Peppercorn\",\"custo\":2200.0,\"moeda_custo\":\"dinheiro\",\"ganho_base\":4.0,\"moeda_ganho\":\"diamante\",\"dinheiros_por_diamante\":552.5},{\"nome\":\"Chive\",\"custo\":1000.0,\"moeda_custo\":\"dinheiro\",\"ganho_base\":2.0,\"moeda_ganho\":\"diamante\",\"dinheiros_por_diamante\":505.0},{\"nome\":\"Ginger\",\"custo\":1600.0,\"moeda_custo\":\"dinheiro\",\"ganho_base\":3.0,\"moeda_ganho\":\"diamante\",\"dinheiros_por_diamante\":536.6666666667},{\"nome\":\"Easter Egg\",\"custo\":500.0,\"moeda_custo\":\"dinheiro\",\"ganho_base\":1.0,\"moeda_ganho\":\"diamante\",\"dinheiros_por_diamante\":510.0},{\"nome\":\"Cursed Pumpkin\",\"custo\":500.0,\"moeda_custo\":\"dinheiro\",\"ganho_base\":1.0,\"moeda_ganho\":\"diamante\",\"dinheiros_por_diamante\":510.0},{\"nome\":\"Candy Cane\",\"custo\":350.0,\"moeda_custo\":\"dinheiro\",\"ganho_base\":1.0,\"moeda_ganho\":\"diamante\",\"dinheiros_por_diamante\":360.0},{\"nome\":\"Shooting Stars\",\"custo\":400.0,\"moeda_custo\":\"dinheiro\",\"ganho_base\":1.0,\"moeda_ganho\":\"diamante\",\"dinheiros_por_diamante\":410.0},{\"nome\":\"Lucky Clover\",\"custo\":0.0,\"moeda_custo\":\"diamante\",\"ganho_base\":0.0,\"moeda_ganho\":\"dinheiro\",\"dinheiros_por_diamante\":null},{\"nome\":\"Flower Bouquets\",\"custo\":0.0,\"moeda_custo\":\"diamante\",\"ganho_base\":0.0,\"moeda_ganho\":\"dinheiro\",\"dinheiros_por_diamante\":null},{\"nome\":\"Fireworks\",\"custo\":500.0,\"moeda_custo\":\"dinheiro\",\"ganho_base\":2.0,\"moeda_ganho\":\"diamante\",\"dinheiros_por_diamante\":255.0},{\"nome\":\"Dinosaur Fossil\",\"custo\":1000.0,\"moeda_custo\":\"dinheiro\",\"ganho_base\":1.0,\"moeda_ganho\":\"diamante\",\"dinheiros_por_diamante\":1010.0},{\"nome\":\"Toy Pinwheels\",\"custo\":300.0,\"moeda_custo\":\"dinheiro\",\"ganho_base\":1.0,\"moeda_ganho\":\"diamante\",\"dinheiros_por_diamante\":310.0},{\"nome\":\"Musical Root\",\"custo\":800.0,\"moeda_custo\":\"dinheiro\",\"ganho_base\":1.0,\"moeda_ganho\":\"diamante\",\"dinheiros_por_diamante\":810.0},{\"nome\":\"Magic Crystal\",\"custo\":500.0,\"moeda_custo\":\"dinheiro\",\"ganho_base\":1.0,\"moeda_ganho\":\"diamante\",\"dinheiros_por_diamante\":510.0},{\"nome\":\"Party Candles\",\"custo\":1000.0,\"moeda_custo\":\"dinheiro\",\"ganho_base\":1.0,\"moeda_ganho\":\"diamante\",\"dinheiros_por_diamante\":1010.0}]'}\n"
    }
   ],
   "source": [
    "str_json = str(df_crops[['nome',  'custo', 'moeda_custo', 'ganho_base', 'moeda_ganho', 'dinheiros_por_diamante']][diamante_dinheiro | dinheiro_diamante].to_json(orient='records'))\n",
    "dict_ = {'crop': str_json}\n",
    "print(dict_)"
   ]
  },
  {
   "cell_type": "code",
   "execution_count": null,
   "metadata": {},
   "outputs": [],
   "source": []
  },
  {
   "cell_type": "code",
   "execution_count": 10,
   "metadata": {},
   "outputs": [
    {
     "output_type": "execute_result",
     "data": {
      "text/plain": "                     nome    custo moeda_custo          estacoes  ganho_base  \\\n58         Pistachio Tree   4000.0    dinheiro  [spring, summer]         1.0   \n59          Chestnut Tree   5000.0    dinheiro            [fall]         2.0   \n57  Flowering Cherry Tree  10000.0    dinheiro            [fall]         4.0   \n56             Candy Tree   2500.0    dinheiro          [winter]         1.0   \n39             Money Tree   5000.0    dinheiro          [winter]         2.0   \n\n      xp moeda_ganho  tempo  ganho_por_min         tipo_ganho  xp_por_min  \\\n58   6.0    diamante   34.0            0.0  dinheiro_diamante    0.176471   \n59   9.0    diamante   68.0            0.0  dinheiro_diamante    0.132353   \n57  10.0    diamante   68.0            0.0  dinheiro_diamante    0.147059   \n56   7.0    diamante   68.0            0.0  dinheiro_diamante    0.102941   \n39  12.0    diamante   68.0            0.0  dinheiro_diamante    0.176471   \n\n    dinheiros_por_diamante  min_sem_lucro  \n58                  4000.0            0.0  \n59                  2500.0            0.0  \n57                  2500.0            0.0  \n56                  2500.0            0.0  \n39                  2500.0            0.0  ",
      "text/html": "<div>\n<style scoped>\n    .dataframe tbody tr th:only-of-type {\n        vertical-align: middle;\n    }\n\n    .dataframe tbody tr th {\n        vertical-align: top;\n    }\n\n    .dataframe thead th {\n        text-align: right;\n    }\n</style>\n<table border=\"1\" class=\"dataframe\">\n  <thead>\n    <tr style=\"text-align: right;\">\n      <th></th>\n      <th>nome</th>\n      <th>custo</th>\n      <th>moeda_custo</th>\n      <th>estacoes</th>\n      <th>ganho_base</th>\n      <th>xp</th>\n      <th>moeda_ganho</th>\n      <th>tempo</th>\n      <th>ganho_por_min</th>\n      <th>tipo_ganho</th>\n      <th>xp_por_min</th>\n      <th>dinheiros_por_diamante</th>\n      <th>min_sem_lucro</th>\n    </tr>\n  </thead>\n  <tbody>\n    <tr>\n      <th>58</th>\n      <td>Pistachio Tree</td>\n      <td>4000.0</td>\n      <td>dinheiro</td>\n      <td>[spring, summer]</td>\n      <td>1.0</td>\n      <td>6.0</td>\n      <td>diamante</td>\n      <td>34.0</td>\n      <td>0.0</td>\n      <td>dinheiro_diamante</td>\n      <td>0.176471</td>\n      <td>4000.0</td>\n      <td>0.0</td>\n    </tr>\n    <tr>\n      <th>59</th>\n      <td>Chestnut Tree</td>\n      <td>5000.0</td>\n      <td>dinheiro</td>\n      <td>[fall]</td>\n      <td>2.0</td>\n      <td>9.0</td>\n      <td>diamante</td>\n      <td>68.0</td>\n      <td>0.0</td>\n      <td>dinheiro_diamante</td>\n      <td>0.132353</td>\n      <td>2500.0</td>\n      <td>0.0</td>\n    </tr>\n    <tr>\n      <th>57</th>\n      <td>Flowering Cherry Tree</td>\n      <td>10000.0</td>\n      <td>dinheiro</td>\n      <td>[fall]</td>\n      <td>4.0</td>\n      <td>10.0</td>\n      <td>diamante</td>\n      <td>68.0</td>\n      <td>0.0</td>\n      <td>dinheiro_diamante</td>\n      <td>0.147059</td>\n      <td>2500.0</td>\n      <td>0.0</td>\n    </tr>\n    <tr>\n      <th>56</th>\n      <td>Candy Tree</td>\n      <td>2500.0</td>\n      <td>dinheiro</td>\n      <td>[winter]</td>\n      <td>1.0</td>\n      <td>7.0</td>\n      <td>diamante</td>\n      <td>68.0</td>\n      <td>0.0</td>\n      <td>dinheiro_diamante</td>\n      <td>0.102941</td>\n      <td>2500.0</td>\n      <td>0.0</td>\n    </tr>\n    <tr>\n      <th>39</th>\n      <td>Money Tree</td>\n      <td>5000.0</td>\n      <td>dinheiro</td>\n      <td>[winter]</td>\n      <td>2.0</td>\n      <td>12.0</td>\n      <td>diamante</td>\n      <td>68.0</td>\n      <td>0.0</td>\n      <td>dinheiro_diamante</td>\n      <td>0.176471</td>\n      <td>2500.0</td>\n      <td>0.0</td>\n    </tr>\n  </tbody>\n</table>\n</div>"
     },
     "metadata": {},
     "execution_count": 10
    }
   ],
   "source": [
    "df_trees = dict_dfs['Trees'].copy()\n",
    "\n",
    "# Classificar cada item com seu tipo de ganho\n",
    "df_trees.loc[(df_trees['moeda_custo'] == df_trees['moeda_ganho']) & (df_trees['moeda_custo'] == 'dinheiro'), 'tipo_ganho'] = 'dinheiro_dinheiro'\n",
    "df_trees.loc[(df_trees['moeda_custo'] != df_trees['moeda_ganho']) & (df_trees['moeda_custo'] == 'dinheiro'), 'tipo_ganho'] = 'dinheiro_diamante'\n",
    "df_trees.loc[(df_trees['moeda_custo'] != df_trees['moeda_ganho']) & (df_trees['moeda_custo'] == 'diamante'), 'tipo_ganho'] = 'diamante_dinheiro'\n",
    "df_trees.loc[(df_trees['moeda_custo'] == df_trees['moeda_ganho']) & (df_trees['moeda_custo'] == 'diamante'), 'tipo_ganho'] = 'diamante_diamante'\n",
    "\n",
    "df_trees['tempo'] = (17*4) / df_trees['quant_estacoes']\n",
    "\n",
    "df_trees['ganho_por_min'] = 0\n",
    "df_trees.loc[((df_trees['tipo_ganho'] == 'dinheiro_dinheiro') | (df_trees['tipo_ganho'] == 'diamante_diamante')), 'ganho_por_min'] = df_trees['ganho_base']/df_trees['tempo']\n",
    "\n",
    "df_trees['dinheiros_por_diamante'] = 0\n",
    "df_trees.loc[df_trees['tipo_ganho'] == 'diamante_dinheiro', 'dinheiros_por_diamante'] = df_trees['ganho_base']/df_trees['custo']\n",
    "df_trees.loc[df_trees['tipo_ganho'] == 'dinheiro_diamante', 'dinheiros_por_diamante'] = df_trees['custo']/df_trees['ganho_base']\n",
    "\n",
    "df_trees['xp_por_min'] = 0\n",
    "df_trees['xp_por_min'] = df_trees['xp'] / df_trees['tempo']\n",
    "\n",
    "df_trees['min_sem_lucro'] = 0\n",
    "df_trees.loc[(df_trees['ganho_por_min'] > 0) & ((df_trees['tipo_ganho'] == 'diamante_diamante') | (df_trees['tipo_ganho'] == 'dinheiro_dinheiro')), 'min_sem_lucro'] = df_trees['custo'] / df_trees['ganho_por_min']\n",
    "\n",
    "df_trees[['nome', 'custo', 'moeda_custo', 'estacoes', 'ganho_base', 'xp', 'moeda_ganho', 'tempo', 'ganho_por_min', 'tipo_ganho', 'xp_por_min', 'dinheiros_por_diamante', 'min_sem_lucro']].sort_values('dinheiros_por_diamante', ascending=False)[:5]"
   ]
  },
  {
   "cell_type": "code",
   "execution_count": 11,
   "metadata": {},
   "outputs": [
    {
     "output_type": "execute_result",
     "data": {
      "text/plain": "                 nome    custo moeda_custo  ganho_base     xp moeda_ganho  \\\n38    Yellow Wisteria  32000.0    dinheiro      3000.0  170.0    dinheiro   \n37      Blue Wisteria  16500.0    dinheiro      2500.0  150.0    dinheiro   \n22    Purple Daffodil  14000.0    dinheiro       500.0   55.0    dinheiro   \n43      Venus Flytrap  10000.0    dinheiro      1200.0   85.0    dinheiro   \n35  Purple Bellflower  35000.0    dinheiro      5500.0  290.0    dinheiro   \n\n    tempo  ganho_por_min         tipo_ganho  xp_por_min  \\\n38  300.0      10.000000  dinheiro_dinheiro    0.566667   \n37  300.0       8.333333  dinheiro_dinheiro    0.500000   \n22   60.0       8.333333  dinheiro_dinheiro    0.916667   \n43  150.0       8.000000  dinheiro_dinheiro    0.566667   \n35  720.0       7.638889  dinheiro_dinheiro    0.402778   \n\n    dinheiros_por_diamante  min_sem_lucro  \n38                     0.0    3200.000000  \n37                     0.0    1980.000000  \n22                     0.0    1680.000000  \n43                     0.0    1250.000000  \n35                     0.0    4581.818182  ",
      "text/html": "<div>\n<style scoped>\n    .dataframe tbody tr th:only-of-type {\n        vertical-align: middle;\n    }\n\n    .dataframe tbody tr th {\n        vertical-align: top;\n    }\n\n    .dataframe thead th {\n        text-align: right;\n    }\n</style>\n<table border=\"1\" class=\"dataframe\">\n  <thead>\n    <tr style=\"text-align: right;\">\n      <th></th>\n      <th>nome</th>\n      <th>custo</th>\n      <th>moeda_custo</th>\n      <th>ganho_base</th>\n      <th>xp</th>\n      <th>moeda_ganho</th>\n      <th>tempo</th>\n      <th>ganho_por_min</th>\n      <th>tipo_ganho</th>\n      <th>xp_por_min</th>\n      <th>dinheiros_por_diamante</th>\n      <th>min_sem_lucro</th>\n    </tr>\n  </thead>\n  <tbody>\n    <tr>\n      <th>38</th>\n      <td>Yellow Wisteria</td>\n      <td>32000.0</td>\n      <td>dinheiro</td>\n      <td>3000.0</td>\n      <td>170.0</td>\n      <td>dinheiro</td>\n      <td>300.0</td>\n      <td>10.000000</td>\n      <td>dinheiro_dinheiro</td>\n      <td>0.566667</td>\n      <td>0.0</td>\n      <td>3200.000000</td>\n    </tr>\n    <tr>\n      <th>37</th>\n      <td>Blue Wisteria</td>\n      <td>16500.0</td>\n      <td>dinheiro</td>\n      <td>2500.0</td>\n      <td>150.0</td>\n      <td>dinheiro</td>\n      <td>300.0</td>\n      <td>8.333333</td>\n      <td>dinheiro_dinheiro</td>\n      <td>0.500000</td>\n      <td>0.0</td>\n      <td>1980.000000</td>\n    </tr>\n    <tr>\n      <th>22</th>\n      <td>Purple Daffodil</td>\n      <td>14000.0</td>\n      <td>dinheiro</td>\n      <td>500.0</td>\n      <td>55.0</td>\n      <td>dinheiro</td>\n      <td>60.0</td>\n      <td>8.333333</td>\n      <td>dinheiro_dinheiro</td>\n      <td>0.916667</td>\n      <td>0.0</td>\n      <td>1680.000000</td>\n    </tr>\n    <tr>\n      <th>43</th>\n      <td>Venus Flytrap</td>\n      <td>10000.0</td>\n      <td>dinheiro</td>\n      <td>1200.0</td>\n      <td>85.0</td>\n      <td>dinheiro</td>\n      <td>150.0</td>\n      <td>8.000000</td>\n      <td>dinheiro_dinheiro</td>\n      <td>0.566667</td>\n      <td>0.0</td>\n      <td>1250.000000</td>\n    </tr>\n    <tr>\n      <th>35</th>\n      <td>Purple Bellflower</td>\n      <td>35000.0</td>\n      <td>dinheiro</td>\n      <td>5500.0</td>\n      <td>290.0</td>\n      <td>dinheiro</td>\n      <td>720.0</td>\n      <td>7.638889</td>\n      <td>dinheiro_dinheiro</td>\n      <td>0.402778</td>\n      <td>0.0</td>\n      <td>4581.818182</td>\n    </tr>\n  </tbody>\n</table>\n</div>"
     },
     "metadata": {},
     "execution_count": 11
    }
   ],
   "source": [
    "df_flowers = dict_dfs['Flowers'].copy()\n",
    "\n",
    "# Classificar cada item com seu tipo de ganho\n",
    "df_flowers.loc[(df_flowers['moeda_custo'] == df_flowers['moeda_ganho']) & (df_flowers['moeda_custo'] == 'dinheiro'), 'tipo_ganho'] = 'dinheiro_dinheiro'\n",
    "df_flowers.loc[(df_flowers['moeda_custo'] != df_flowers['moeda_ganho']) & (df_flowers['moeda_custo'] == 'dinheiro'), 'tipo_ganho'] = 'dinheiro_diamante'\n",
    "df_flowers.loc[(df_flowers['moeda_custo'] != df_flowers['moeda_ganho']) & (df_flowers['moeda_custo'] == 'diamante'), 'tipo_ganho'] = 'diamante_dinheiro'\n",
    "df_flowers.loc[(df_flowers['moeda_custo'] == df_flowers['moeda_ganho']) & (df_flowers['moeda_custo'] == 'diamante'), 'tipo_ganho'] = 'diamante_diamante'\n",
    "\n",
    "df_flowers['ganho_por_min'] = 0\n",
    "df_flowers.loc[((df_flowers['tipo_ganho'] == 'dinheiro_dinheiro') | (df_flowers['tipo_ganho'] == 'diamante_diamante')), 'ganho_por_min'] = df_flowers['ganho_base']/df_flowers['tempo']\n",
    "\n",
    "df_flowers['dinheiros_por_diamante'] = 0\n",
    "df_flowers.loc[df_flowers['tipo_ganho'] == 'diamante_dinheiro', 'dinheiros_por_diamante'] = df_flowers['ganho_base']/df_flowers['custo']\n",
    "df_flowers.loc[df_flowers['tipo_ganho'] == 'dinheiro_diamante', 'dinheiros_por_diamante'] = df_flowers['custo']/df_flowers['ganho_base']\n",
    "\n",
    "df_flowers['xp_por_min'] = 0\n",
    "df_flowers['xp_por_min'] = df_flowers['xp'] / df_flowers['tempo']\n",
    "\n",
    "df_flowers['min_sem_lucro'] = 0\n",
    "df_flowers.loc[(df_flowers['ganho_por_min'] > 0) & ((df_flowers['tipo_ganho'] == 'diamante_diamante') | (df_flowers['tipo_ganho'] == 'dinheiro_dinheiro')), 'min_sem_lucro'] = df_flowers['custo'] / df_flowers['ganho_por_min']\n",
    "\n",
    "df_flowers[['nome', 'custo', 'moeda_custo', 'ganho_base', 'xp', 'moeda_ganho', 'tempo', 'ganho_por_min', 'tipo_ganho', 'xp_por_min', 'dinheiros_por_diamante', 'min_sem_lucro']].sort_values('ganho_por_min', ascending=False)[:5]"
   ]
  },
  {
   "cell_type": "code",
   "execution_count": 12,
   "metadata": {},
   "outputs": [
    {
     "output_type": "execute_result",
     "data": {
      "text/plain": "                                             url_img  custo moeda_custo   xp  \\\n0  https://vignette.wikia.nocookie.net/farmtogeth...  200.0    dinheiro  3.0   \n\n   ganho_grande moeda_ganho  ganho_pequeno  tempo  p_pesca  p_ganho_grande  \\\n0          30.0    dinheiro            3.0     30      0.5             0.2   \n\n            nome                                               link  \\\n0  Tropical Fish  https://farmtogether.fandom.com/wiki/Tropical_...   \n\n  tipo_colheita      categoria  \n0         Ponds  Pond overview  ",
      "text/html": "<div>\n<style scoped>\n    .dataframe tbody tr th:only-of-type {\n        vertical-align: middle;\n    }\n\n    .dataframe tbody tr th {\n        vertical-align: top;\n    }\n\n    .dataframe thead th {\n        text-align: right;\n    }\n</style>\n<table border=\"1\" class=\"dataframe\">\n  <thead>\n    <tr style=\"text-align: right;\">\n      <th></th>\n      <th>url_img</th>\n      <th>custo</th>\n      <th>moeda_custo</th>\n      <th>xp</th>\n      <th>ganho_grande</th>\n      <th>moeda_ganho</th>\n      <th>ganho_pequeno</th>\n      <th>tempo</th>\n      <th>p_pesca</th>\n      <th>p_ganho_grande</th>\n      <th>nome</th>\n      <th>link</th>\n      <th>tipo_colheita</th>\n      <th>categoria</th>\n    </tr>\n  </thead>\n  <tbody>\n    <tr>\n      <th>0</th>\n      <td>https://vignette.wikia.nocookie.net/farmtogeth...</td>\n      <td>200.0</td>\n      <td>dinheiro</td>\n      <td>3.0</td>\n      <td>30.0</td>\n      <td>dinheiro</td>\n      <td>3.0</td>\n      <td>30</td>\n      <td>0.5</td>\n      <td>0.2</td>\n      <td>Tropical Fish</td>\n      <td>https://farmtogether.fandom.com/wiki/Tropical_...</td>\n      <td>Ponds</td>\n      <td>Pond overview</td>\n    </tr>\n  </tbody>\n</table>\n</div>"
     },
     "metadata": {},
     "execution_count": 12
    }
   ],
   "source": [
    "df_ponds = dict_dfs['Ponds'].copy()\n",
    "df_ponds[:1]"
   ]
  },
  {
   "cell_type": "code",
   "execution_count": 13,
   "metadata": {},
   "outputs": [
    {
     "output_type": "execute_result",
     "data": {
      "text/plain": "             nome    custo moeda_custo  ganho_base    xp moeda_ganho  tempo  \\\n24          Perch  30000.0    dinheiro       990.0  33.0    dinheiro    120   \n26  Red Sea Bream  50000.0    dinheiro      1375.0  49.0    dinheiro    180   \n23    Red Snapper  25000.0    dinheiro       330.0  18.0    dinheiro     45   \n21       Sturgeon  17500.0    dinheiro       330.0  19.0    dinheiro     45   \n22         Oyster  20000.0    dinheiro       528.0  24.0    dinheiro     75   \n\n    ganho_por_min         tipo_ganho  xp_por_min  dinheiros_por_diamante  \\\n24       4.125000  dinheiro_dinheiro    0.275000                     0.0   \n26       3.819444  dinheiro_dinheiro    0.272222                     0.0   \n23       3.666667  dinheiro_dinheiro    0.400000                     0.0   \n21       3.666667  dinheiro_dinheiro    0.422222                     0.0   \n22       3.520000  dinheiro_dinheiro    0.320000                     0.0   \n\n    min_sem_lucro  \n24      30.303030  \n26      36.363636  \n23      75.757576  \n21      53.030303  \n22      37.878788  ",
      "text/html": "<div>\n<style scoped>\n    .dataframe tbody tr th:only-of-type {\n        vertical-align: middle;\n    }\n\n    .dataframe tbody tr th {\n        vertical-align: top;\n    }\n\n    .dataframe thead th {\n        text-align: right;\n    }\n</style>\n<table border=\"1\" class=\"dataframe\">\n  <thead>\n    <tr style=\"text-align: right;\">\n      <th></th>\n      <th>nome</th>\n      <th>custo</th>\n      <th>moeda_custo</th>\n      <th>ganho_base</th>\n      <th>xp</th>\n      <th>moeda_ganho</th>\n      <th>tempo</th>\n      <th>ganho_por_min</th>\n      <th>tipo_ganho</th>\n      <th>xp_por_min</th>\n      <th>dinheiros_por_diamante</th>\n      <th>min_sem_lucro</th>\n    </tr>\n  </thead>\n  <tbody>\n    <tr>\n      <th>24</th>\n      <td>Perch</td>\n      <td>30000.0</td>\n      <td>dinheiro</td>\n      <td>990.0</td>\n      <td>33.0</td>\n      <td>dinheiro</td>\n      <td>120</td>\n      <td>4.125000</td>\n      <td>dinheiro_dinheiro</td>\n      <td>0.275000</td>\n      <td>0.0</td>\n      <td>30.303030</td>\n    </tr>\n    <tr>\n      <th>26</th>\n      <td>Red Sea Bream</td>\n      <td>50000.0</td>\n      <td>dinheiro</td>\n      <td>1375.0</td>\n      <td>49.0</td>\n      <td>dinheiro</td>\n      <td>180</td>\n      <td>3.819444</td>\n      <td>dinheiro_dinheiro</td>\n      <td>0.272222</td>\n      <td>0.0</td>\n      <td>36.363636</td>\n    </tr>\n    <tr>\n      <th>23</th>\n      <td>Red Snapper</td>\n      <td>25000.0</td>\n      <td>dinheiro</td>\n      <td>330.0</td>\n      <td>18.0</td>\n      <td>dinheiro</td>\n      <td>45</td>\n      <td>3.666667</td>\n      <td>dinheiro_dinheiro</td>\n      <td>0.400000</td>\n      <td>0.0</td>\n      <td>75.757576</td>\n    </tr>\n    <tr>\n      <th>21</th>\n      <td>Sturgeon</td>\n      <td>17500.0</td>\n      <td>dinheiro</td>\n      <td>330.0</td>\n      <td>19.0</td>\n      <td>dinheiro</td>\n      <td>45</td>\n      <td>3.666667</td>\n      <td>dinheiro_dinheiro</td>\n      <td>0.422222</td>\n      <td>0.0</td>\n      <td>53.030303</td>\n    </tr>\n    <tr>\n      <th>22</th>\n      <td>Oyster</td>\n      <td>20000.0</td>\n      <td>dinheiro</td>\n      <td>528.0</td>\n      <td>24.0</td>\n      <td>dinheiro</td>\n      <td>75</td>\n      <td>3.520000</td>\n      <td>dinheiro_dinheiro</td>\n      <td>0.320000</td>\n      <td>0.0</td>\n      <td>37.878788</td>\n    </tr>\n  </tbody>\n</table>\n</div>"
     },
     "metadata": {},
     "execution_count": 13
    }
   ],
   "source": [
    "df_ponds = dict_dfs['Ponds'].copy()\n",
    "\n",
    "# Classificar cada item com seu tipo de ganho\n",
    "df_ponds.loc[(df_ponds['moeda_custo'] == df_ponds['moeda_ganho']) & (df_ponds['moeda_custo'] == 'dinheiro'), 'tipo_ganho'] = 'dinheiro_dinheiro'\n",
    "df_ponds.loc[(df_ponds['moeda_custo'] != df_ponds['moeda_ganho']) & (df_ponds['moeda_custo'] == 'dinheiro'), 'tipo_ganho'] = 'dinheiro_diamante'\n",
    "df_ponds.loc[(df_ponds['moeda_custo'] != df_ponds['moeda_ganho']) & (df_ponds['moeda_custo'] == 'diamante'), 'tipo_ganho'] = 'diamante_dinheiro'\n",
    "df_ponds.loc[(df_ponds['moeda_custo'] == df_ponds['moeda_ganho']) & (df_ponds['moeda_custo'] == 'diamante'), 'tipo_ganho'] = 'diamante_diamante'\n",
    "\n",
    "df_ponds['ganho_base'] = df_ponds['p_pesca'] * (df_ponds['ganho_grande'] + df_ponds['ganho_pequeno'])\n",
    "\n",
    "df_ponds['ganho_por_min'] = 0\n",
    "df_ponds.loc[((df_ponds['tipo_ganho'] == 'dinheiro_dinheiro') | (df_ponds['tipo_ganho'] == 'diamante_diamante')), 'ganho_por_min'] = df_ponds['ganho_base'] / (df_ponds['tempo'] * 2)\n",
    "\n",
    "df_ponds['dinheiros_por_diamante'] = 0\n",
    "df_ponds.loc[df_ponds['tipo_ganho'] == 'diamante_dinheiro', 'dinheiros_por_diamante'] = df_ponds['ganho_base'] / df_ponds['custo']\n",
    "\n",
    "df_ponds.loc[df_ponds['tipo_ganho'] == 'dinheiro_diamante', 'dinheiros_por_diamante'] = df_ponds['custo'] / df_ponds['ganho_base']\n",
    "\n",
    "df_ponds['xp_por_min'] = 0\n",
    "df_ponds['xp_por_min'] = df_ponds['xp'] / df_ponds['tempo']\n",
    "\n",
    "df_ponds['min_sem_lucro'] = 0\n",
    "df_ponds.loc[(df_ponds['ganho_por_min'] > 0) & ((df_ponds['tipo_ganho'] == 'diamante_diamante') | (df_ponds['tipo_ganho'] == 'dinheiro_dinheiro')), 'min_sem_lucro'] = df_ponds['custo'] / df_ponds['ganho_base']\n",
    "\n",
    "df_ponds['tipo_recurso'] = 'Fishs'\n",
    "\n",
    "df_ponds[['nome', 'custo', 'moeda_custo', 'ganho_base', 'xp', 'moeda_ganho', 'tempo', 'ganho_por_min', 'tipo_ganho', 'xp_por_min', 'dinheiros_por_diamante', 'min_sem_lucro']].sort_values('ganho_por_min', ascending=False)[:5]"
   ]
  },
  {
   "cell_type": "code",
   "execution_count": 14,
   "metadata": {},
   "outputs": [
    {
     "output_type": "execute_result",
     "data": {
      "text/plain": "                                             url_img  custo moeda_custo  \\\n0  https://vignette.wikia.nocookie.net/farmtogeth...  250.0    dinheiro   \n\n      xp  ganho_total moeda_ganho  tempo tipo_recurso comida_custo  \\\n0  855.0        855.0    dinheiro   30.0         Eggs           20   \n\n  comida_tempo  comida_vezes  comida_total             nome  \\\n0           10           3.0          60.0  Leghorn Chicken   \n\n                                                link tipo_colheita categoria  \n0  https://farmtogether.fandom.com/wiki/Leghorn_C...       Animals   Chicken  ",
      "text/html": "<div>\n<style scoped>\n    .dataframe tbody tr th:only-of-type {\n        vertical-align: middle;\n    }\n\n    .dataframe tbody tr th {\n        vertical-align: top;\n    }\n\n    .dataframe thead th {\n        text-align: right;\n    }\n</style>\n<table border=\"1\" class=\"dataframe\">\n  <thead>\n    <tr style=\"text-align: right;\">\n      <th></th>\n      <th>url_img</th>\n      <th>custo</th>\n      <th>moeda_custo</th>\n      <th>xp</th>\n      <th>ganho_total</th>\n      <th>moeda_ganho</th>\n      <th>tempo</th>\n      <th>tipo_recurso</th>\n      <th>comida_custo</th>\n      <th>comida_tempo</th>\n      <th>comida_vezes</th>\n      <th>comida_total</th>\n      <th>nome</th>\n      <th>link</th>\n      <th>tipo_colheita</th>\n      <th>categoria</th>\n    </tr>\n  </thead>\n  <tbody>\n    <tr>\n      <th>0</th>\n      <td>https://vignette.wikia.nocookie.net/farmtogeth...</td>\n      <td>250.0</td>\n      <td>dinheiro</td>\n      <td>855.0</td>\n      <td>855.0</td>\n      <td>dinheiro</td>\n      <td>30.0</td>\n      <td>Eggs</td>\n      <td>20</td>\n      <td>10</td>\n      <td>3.0</td>\n      <td>60.0</td>\n      <td>Leghorn Chicken</td>\n      <td>https://farmtogether.fandom.com/wiki/Leghorn_C...</td>\n      <td>Animals</td>\n      <td>Chicken</td>\n    </tr>\n  </tbody>\n</table>\n</div>"
     },
     "metadata": {},
     "execution_count": 14
    }
   ],
   "source": [
    "df_animals = dict_dfs['Animals'].copy()\n",
    "df_animals[:1]"
   ]
  },
  {
   "cell_type": "code",
   "execution_count": 20,
   "metadata": {},
   "outputs": [
    {
     "output_type": "execute_result",
     "data": {
      "text/plain": "     custo moeda_custo       xp  ganho_total moeda_ganho  tempo tipo_recurso  \\\n1   1300.0    dinheiro  60014.0      60014.0    dinheiro   60.0         Eggs   \n0    250.0    dinheiro    855.0        855.0    dinheiro   30.0         Eggs   \n4  15500.0    dinheiro     29.0      12802.9    dinheiro   60.0         Eggs   \n3   7000.0    dinheiro     24.0       4352.4    dinheiro   60.0         Eggs   \n2   3200.0    dinheiro     19.0       2281.9    dinheiro   60.0         Eggs   \n\n  comida_custo comida_tempo  comida_vezes  comida_total  \\\n1          130           15           4.0         520.0   \n0           20           10           3.0          60.0   \n4         3000           15           4.0       12000.0   \n3         1000           15           4.0        4000.0   \n2          500           15           4.0        2000.0   \n\n                    nome         tipo_ganho  ganho_base  ganho_por_min  \\\n1  New Hampshire Chicken  dinheiro_dinheiro     59494.0     991.566667   \n0        Leghorn Chicken  dinheiro_dinheiro       795.0      26.500000   \n4    Barnevelder Chicken  dinheiro_dinheiro       802.9      13.381667   \n3   Jersey Giant Chicken  dinheiro_dinheiro       352.4       5.873333   \n2  Plymouth Rock Chicken  dinheiro_dinheiro       281.9       4.698333   \n\n   dinheiros_por_diamante   xp_por_min  min_sem_lucro  \n1                     0.0  1000.233333       0.021851  \n0                     0.0    28.500000       0.314465  \n4                     0.0     0.483333      19.305019  \n3                     0.0     0.400000      19.863791  \n2                     0.0     0.316667      11.351543  ",
      "text/html": "<div>\n<style scoped>\n    .dataframe tbody tr th:only-of-type {\n        vertical-align: middle;\n    }\n\n    .dataframe tbody tr th {\n        vertical-align: top;\n    }\n\n    .dataframe thead th {\n        text-align: right;\n    }\n</style>\n<table border=\"1\" class=\"dataframe\">\n  <thead>\n    <tr style=\"text-align: right;\">\n      <th></th>\n      <th>custo</th>\n      <th>moeda_custo</th>\n      <th>xp</th>\n      <th>ganho_total</th>\n      <th>moeda_ganho</th>\n      <th>tempo</th>\n      <th>tipo_recurso</th>\n      <th>comida_custo</th>\n      <th>comida_tempo</th>\n      <th>comida_vezes</th>\n      <th>comida_total</th>\n      <th>nome</th>\n      <th>tipo_ganho</th>\n      <th>ganho_base</th>\n      <th>ganho_por_min</th>\n      <th>dinheiros_por_diamante</th>\n      <th>xp_por_min</th>\n      <th>min_sem_lucro</th>\n    </tr>\n  </thead>\n  <tbody>\n    <tr>\n      <th>1</th>\n      <td>1300.0</td>\n      <td>dinheiro</td>\n      <td>60014.0</td>\n      <td>60014.0</td>\n      <td>dinheiro</td>\n      <td>60.0</td>\n      <td>Eggs</td>\n      <td>130</td>\n      <td>15</td>\n      <td>4.0</td>\n      <td>520.0</td>\n      <td>New Hampshire Chicken</td>\n      <td>dinheiro_dinheiro</td>\n      <td>59494.0</td>\n      <td>991.566667</td>\n      <td>0.0</td>\n      <td>1000.233333</td>\n      <td>0.021851</td>\n    </tr>\n    <tr>\n      <th>0</th>\n      <td>250.0</td>\n      <td>dinheiro</td>\n      <td>855.0</td>\n      <td>855.0</td>\n      <td>dinheiro</td>\n      <td>30.0</td>\n      <td>Eggs</td>\n      <td>20</td>\n      <td>10</td>\n      <td>3.0</td>\n      <td>60.0</td>\n      <td>Leghorn Chicken</td>\n      <td>dinheiro_dinheiro</td>\n      <td>795.0</td>\n      <td>26.500000</td>\n      <td>0.0</td>\n      <td>28.500000</td>\n      <td>0.314465</td>\n    </tr>\n    <tr>\n      <th>4</th>\n      <td>15500.0</td>\n      <td>dinheiro</td>\n      <td>29.0</td>\n      <td>12802.9</td>\n      <td>dinheiro</td>\n      <td>60.0</td>\n      <td>Eggs</td>\n      <td>3000</td>\n      <td>15</td>\n      <td>4.0</td>\n      <td>12000.0</td>\n      <td>Barnevelder Chicken</td>\n      <td>dinheiro_dinheiro</td>\n      <td>802.9</td>\n      <td>13.381667</td>\n      <td>0.0</td>\n      <td>0.483333</td>\n      <td>19.305019</td>\n    </tr>\n    <tr>\n      <th>3</th>\n      <td>7000.0</td>\n      <td>dinheiro</td>\n      <td>24.0</td>\n      <td>4352.4</td>\n      <td>dinheiro</td>\n      <td>60.0</td>\n      <td>Eggs</td>\n      <td>1000</td>\n      <td>15</td>\n      <td>4.0</td>\n      <td>4000.0</td>\n      <td>Jersey Giant Chicken</td>\n      <td>dinheiro_dinheiro</td>\n      <td>352.4</td>\n      <td>5.873333</td>\n      <td>0.0</td>\n      <td>0.400000</td>\n      <td>19.863791</td>\n    </tr>\n    <tr>\n      <th>2</th>\n      <td>3200.0</td>\n      <td>dinheiro</td>\n      <td>19.0</td>\n      <td>2281.9</td>\n      <td>dinheiro</td>\n      <td>60.0</td>\n      <td>Eggs</td>\n      <td>500</td>\n      <td>15</td>\n      <td>4.0</td>\n      <td>2000.0</td>\n      <td>Plymouth Rock Chicken</td>\n      <td>dinheiro_dinheiro</td>\n      <td>281.9</td>\n      <td>4.698333</td>\n      <td>0.0</td>\n      <td>0.316667</td>\n      <td>11.351543</td>\n    </tr>\n  </tbody>\n</table>\n</div>"
     },
     "metadata": {},
     "execution_count": 20
    }
   ],
   "source": [
    "df_animals = dict_dfs['Animals'].copy()\n",
    "\n",
    "# Classificar cada item com seu tipo de ganho\n",
    "df_animals.loc[(df_animals['moeda_custo'] == df_animals['moeda_ganho']) & (df_animals['moeda_custo'] == 'dinheiro'), 'tipo_ganho'] = 'dinheiro_dinheiro'\n",
    "df_animals.loc[(df_animals['moeda_custo'] != df_animals['moeda_ganho']) & (df_animals['moeda_custo'] == 'dinheiro'), 'tipo_ganho'] = 'dinheiro_diamante'\n",
    "df_animals.loc[(df_animals['moeda_custo'] != df_animals['moeda_ganho']) & (df_animals['moeda_custo'] == 'diamante'), 'tipo_ganho'] = 'diamante_dinheiro'\n",
    "df_animals.loc[(df_animals['moeda_custo'] == df_animals['moeda_ganho']) & (df_animals['moeda_custo'] == 'diamante'), 'tipo_ganho'] = 'diamante_diamante'\n",
    "\n",
    "df_animals['ganho_base'] = df_animals['ganho_total'] - df_animals['comida_total']\n",
    "\n",
    "df_animals['ganho_por_min'] = 0\n",
    "df_animals.loc[((df_animals['tipo_ganho'] == 'dinheiro_dinheiro') | (df_animals['tipo_ganho'] == 'diamante_diamante')), 'ganho_por_min'] = df_animals['ganho_base']/df_animals['tempo']\n",
    "\n",
    "df_animals['dinheiros_por_diamante'] = 0\n",
    "df_animals.loc[df_animals['tipo_ganho'] == 'diamante_dinheiro', 'dinheiros_por_diamante'] = df_animals['ganho_base']/df_animals['custo']\n",
    "df_animals.loc[df_animals['tipo_ganho'] == 'dinheiro_diamante', 'dinheiros_por_diamante'] = df_animals['custo']/df_animals['ganho_base']\n",
    "\n",
    "df_animals['xp_por_min'] = 0\n",
    "df_animals['xp_por_min'] = df_animals['xp'] / df_animals['tempo']\n",
    "\n",
    "df_animals['min_sem_lucro'] = 0\n",
    "df_animals.loc[(df_animals['ganho_por_min'] > 0) & ((df_animals['tipo_ganho'] == 'diamante_diamante') | (df_animals['tipo_ganho'] == 'dinheiro_dinheiro')), 'min_sem_lucro'] = df_animals['custo'] / df_animals['ganho_base']\n",
    "\n",
    "#df_animals[['nome', 'custo', 'moeda_custo', 'ganho_base', 'xp', 'moeda_ganho', 'tempo', 'ganho_por_min', 'tipo_ganho', 'xp_por_min', 'dinheiros_por_diamante', 'min_sem_lucro']].sort_values('ganho_por_min', ascending=False)[:5]\n",
    "df_animals[['custo', 'moeda_custo', 'xp', 'ganho_total', 'moeda_ganho', 'tempo', 'tipo_recurso', 'comida_custo', 'comida_tempo', 'comida_vezes', 'comida_total', 'nome', 'tipo_ganho', 'ganho_base', 'ganho_por_min', 'dinheiros_por_diamante', 'xp_por_min', 'min_sem_lucro']][:5].sort_values('xp', ascending=False)"
   ]
  },
  {
   "cell_type": "code",
   "execution_count": null,
   "metadata": {},
   "outputs": [],
   "source": []
  },
  {
   "cell_type": "code",
   "execution_count": null,
   "metadata": {},
   "outputs": [],
   "source": []
  },
  {
   "cell_type": "code",
   "execution_count": null,
   "metadata": {},
   "outputs": [],
   "source": []
  },
  {
   "cell_type": "code",
   "execution_count": null,
   "metadata": {},
   "outputs": [],
   "source": []
  },
  {
   "cell_type": "code",
   "execution_count": null,
   "metadata": {},
   "outputs": [],
   "source": []
  },
  {
   "cell_type": "code",
   "execution_count": null,
   "metadata": {},
   "outputs": [],
   "source": []
  }
 ],
 "metadata": {
  "kernelspec": {
   "display_name": "Python 3",
   "language": "python",
   "name": "python3"
  },
  "language_info": {
   "codemirror_mode": {
    "name": "ipython",
    "version": 3
   },
   "file_extension": ".py",
   "mimetype": "text/x-python",
   "name": "python",
   "nbconvert_exporter": "python",
   "pygments_lexer": "ipython3",
   "version": "3.7.7-final"
  }
 },
 "nbformat": 4,
 "nbformat_minor": 4
}